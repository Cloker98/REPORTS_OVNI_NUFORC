{
  "nbformat": 4,
  "nbformat_minor": 0,
  "metadata": {
    "colab": {
      "name": "Script_limpeza_dos_dados_5.7.ipynb",
      "provenance": [],
      "collapsed_sections": [
        "EYSUU5YkiIvF"
      ],
      "toc_visible": true
    },
    "kernelspec": {
      "name": "python3",
      "display_name": "Python 3"
    }
  },
  "cells": [
    {
      "cell_type": "markdown",
      "metadata": {
        "id": "n8-gYkffhl8K"
      },
      "source": [
        "#SCRIPT LIMPEZA DOS DADOS\n",
        "\n",
        "Prepararemos os dados para que possamos descobrir valores através deles. Durante as fases anteriores, desenvolvemos ideias. Lembrando que observamos que existe um tipo de OVNI (\"Shape\") mais popular, chamado de \"Light\". Podemos definir se essa categoria é interessante para o projeto. Será que não se trata apenas de um erro de visualização ou impressão errônea por parte do expectador? Esse tipo de insight será muito útil no momento de desenvolver a predição.\n",
        "\n",
        "Sequência de tarefas\n",
        "\n",
        "1. Carregar o seu arquivo OVNIS.csv em um dataframe;\n",
        "   \n",
        "2. Remover registros que tenham valores vazios (None, Unknown, ...) para City, State e Shape;\n",
        "\n",
        "3. Manter somente os registros referentes aos 51 estados dos Estados Unidos;\n",
        "\n",
        "4. Remover variáveis irrelevantes para a análise (Duration, Summary e Posted);\n",
        "\n",
        "5. Manter somente os registros de Shapes mais populares (com mais de 1000 ocorrências);\n",
        "\n",
        "6. Salvar o dataframe final em um arquivo CSV com o nome \"df_OVNI_limpo\"."
      ]
    },
    {
      "cell_type": "markdown",
      "metadata": {
        "id": "EYSUU5YkiIvF"
      },
      "source": [
        "### Etapa inicial\n",
        "\n",
        "P1: Carregar o seu arquivo OVNIS.csv em um dataframe;"
      ]
    },
    {
      "cell_type": "code",
      "metadata": {
        "id": "Tb8DUimojtQN",
        "outputId": "ff952454-21e3-4e6f-80e6-c1b1a3006eb7",
        "colab": {
          "base_uri": "https://localhost:8080/",
          "height": 156
        }
      },
      "source": [
        "#Realizar os Imports e instalações das bibliotecas\n",
        "import pandas as pd\n",
        "import numpy as np"
      ],
      "execution_count": 99,
      "outputs": [
        {
          "output_type": "stream",
          "text": [
            "Requirement already satisfied: pandasql in /usr/local/lib/python3.6/dist-packages (0.7.3)\n",
            "Requirement already satisfied: sqlalchemy in /usr/local/lib/python3.6/dist-packages (from pandasql) (1.3.19)\n",
            "Requirement already satisfied: numpy in /usr/local/lib/python3.6/dist-packages (from pandasql) (1.18.5)\n",
            "Requirement already satisfied: pandas in /usr/local/lib/python3.6/dist-packages (from pandasql) (1.1.2)\n",
            "Requirement already satisfied: python-dateutil>=2.7.3 in /usr/local/lib/python3.6/dist-packages (from pandas->pandasql) (2.8.1)\n",
            "Requirement already satisfied: pytz>=2017.2 in /usr/local/lib/python3.6/dist-packages (from pandas->pandasql) (2018.9)\n",
            "Requirement already satisfied: six>=1.5 in /usr/local/lib/python3.6/dist-packages (from python-dateutil>=2.7.3->pandas->pandasql) (1.15.0)\n"
          ],
          "name": "stdout"
        }
      ]
    },
    {
      "cell_type": "code",
      "metadata": {
        "id": "FYa0wVDMj1dp",
        "outputId": "8698857e-a7d3-4d80-c323-eb68310acc62",
        "colab": {
          "base_uri": "https://localhost:8080/",
          "height": 204
        }
      },
      "source": [
        "# Abra o arquivo CSV e mostre algumas linhas\n",
        "df_ovnis = pd.read_csv('ovnis_tabela.csv')\n",
        "df_ovnis.head()"
      ],
      "execution_count": 100,
      "outputs": [
        {
          "output_type": "execute_result",
          "data": {
            "text/html": [
              "<div>\n",
              "<style scoped>\n",
              "    .dataframe tbody tr th:only-of-type {\n",
              "        vertical-align: middle;\n",
              "    }\n",
              "\n",
              "    .dataframe tbody tr th {\n",
              "        vertical-align: top;\n",
              "    }\n",
              "\n",
              "    .dataframe thead th {\n",
              "        text-align: right;\n",
              "    }\n",
              "</style>\n",
              "<table border=\"1\" class=\"dataframe\">\n",
              "  <thead>\n",
              "    <tr style=\"text-align: right;\">\n",
              "      <th></th>\n",
              "      <th>Unnamed: 0</th>\n",
              "      <th>DATE/TIME</th>\n",
              "      <th>CITY</th>\n",
              "      <th>STATE</th>\n",
              "      <th>SHAPE</th>\n",
              "      <th>DURATION</th>\n",
              "      <th>SUMMARY</th>\n",
              "      <th>POSTED</th>\n",
              "    </tr>\n",
              "  </thead>\n",
              "  <tbody>\n",
              "    <tr>\n",
              "      <th>0</th>\n",
              "      <td>0</td>\n",
              "      <td>8/31/97 05:15</td>\n",
              "      <td>Lost Lake</td>\n",
              "      <td>OR</td>\n",
              "      <td>Egg</td>\n",
              "      <td>3 min</td>\n",
              "      <td>Two blue egg shaped objects floated past our c...</td>\n",
              "      <td>1/10/09</td>\n",
              "    </tr>\n",
              "    <tr>\n",
              "      <th>1</th>\n",
              "      <td>1</td>\n",
              "      <td>8/30/97 21:00</td>\n",
              "      <td>Ocracoke</td>\n",
              "      <td>NC</td>\n",
              "      <td>Other</td>\n",
              "      <td>5 minutes</td>\n",
              "      <td>Several stationary white lights in a curved sh...</td>\n",
              "      <td>7/14/13</td>\n",
              "    </tr>\n",
              "    <tr>\n",
              "      <th>2</th>\n",
              "      <td>2</td>\n",
              "      <td>8/30/97 19:00</td>\n",
              "      <td>Fort Fairfield</td>\n",
              "      <td>ME</td>\n",
              "      <td>Changing</td>\n",
              "      <td>10 minutes</td>\n",
              "      <td>Huge bright white round orange and red pulsati...</td>\n",
              "      <td>3/18/16</td>\n",
              "    </tr>\n",
              "    <tr>\n",
              "      <th>3</th>\n",
              "      <td>3</td>\n",
              "      <td>8/29/97 22:00</td>\n",
              "      <td>Tucson</td>\n",
              "      <td>AZ</td>\n",
              "      <td>Chevron</td>\n",
              "      <td>20+ secs.</td>\n",
              "      <td>As we traveled the 10e freeway to Tucson the c...</td>\n",
              "      <td>10/30/06</td>\n",
              "    </tr>\n",
              "    <tr>\n",
              "      <th>4</th>\n",
              "      <td>4</td>\n",
              "      <td>8/25/97 22:00</td>\n",
              "      <td>Fontana</td>\n",
              "      <td>CA</td>\n",
              "      <td>Triangle</td>\n",
              "      <td>15 sec.</td>\n",
              "      <td>My brother and I saw 3 lights forming a shape ...</td>\n",
              "      <td>10/30/06</td>\n",
              "    </tr>\n",
              "  </tbody>\n",
              "</table>\n",
              "</div>"
            ],
            "text/plain": [
              "   Unnamed: 0  ...    POSTED\n",
              "0           0  ...   1/10/09\n",
              "1           1  ...   7/14/13\n",
              "2           2  ...   3/18/16\n",
              "3           3  ...  10/30/06\n",
              "4           4  ...  10/30/06\n",
              "\n",
              "[5 rows x 8 columns]"
            ]
          },
          "metadata": {
            "tags": []
          },
          "execution_count": 100
        }
      ]
    },
    {
      "cell_type": "markdown",
      "metadata": {
        "id": "9UGSklCliOAp"
      },
      "source": [
        "## Análise \n",
        "\n",
        "Iremos agora com a utilização de informações visuais realizar os items elaborados anteriormente."
      ]
    },
    {
      "cell_type": "markdown",
      "metadata": {
        "id": "KXt3iUxmiSi_"
      },
      "source": [
        "### P2: Remover registros que tenham valores vazios (None, Unknown, ...) para City, State e Shape;"
      ]
    },
    {
      "cell_type": "code",
      "metadata": {
        "id": "c-Pdrlmxk3aS",
        "outputId": "7f40a5c2-8b6c-42a5-a6de-e7136cecba49",
        "colab": {
          "base_uri": "https://localhost:8080/",
          "height": 170
        }
      },
      "source": [
        "# verifica as colunas que possuem valores vazios\n",
        "df_ovnis.isnull().sum()"
      ],
      "execution_count": 101,
      "outputs": [
        {
          "output_type": "execute_result",
          "data": {
            "text/plain": [
              "Unnamed: 0       0\n",
              "DATE/TIME        0\n",
              "CITY           144\n",
              "STATE         4361\n",
              "SHAPE         1408\n",
              "DURATION      1975\n",
              "SUMMARY          7\n",
              "POSTED           0\n",
              "dtype: int64"
            ]
          },
          "metadata": {
            "tags": []
          },
          "execution_count": 101
        }
      ]
    },
    {
      "cell_type": "code",
      "metadata": {
        "id": "k6zwcWuihh1d"
      },
      "source": [
        "# elimina os valores vazios das colunas 'CITY', 'STATE' e 'SHAPE'.\n",
        "df_ovnis.dropna(subset=['CITY','STATE','SHAPE'], inplace=True)"
      ],
      "execution_count": 102,
      "outputs": []
    },
    {
      "cell_type": "code",
      "metadata": {
        "id": "0we1CYdck9tn",
        "outputId": "1753c7f0-4c3e-43f9-e184-0a78922fcdbc",
        "colab": {
          "base_uri": "https://localhost:8080/",
          "height": 170
        }
      },
      "source": [
        "# verifica se os valores vazios foram deletados do DataFrame\n",
        "df_ovnis.isnull().sum()"
      ],
      "execution_count": 103,
      "outputs": [
        {
          "output_type": "execute_result",
          "data": {
            "text/plain": [
              "Unnamed: 0       0\n",
              "DATE/TIME        0\n",
              "CITY             0\n",
              "STATE            0\n",
              "SHAPE            0\n",
              "DURATION      1477\n",
              "SUMMARY          6\n",
              "POSTED           0\n",
              "dtype: int64"
            ]
          },
          "metadata": {
            "tags": []
          },
          "execution_count": 103
        }
      ]
    },
    {
      "cell_type": "markdown",
      "metadata": {
        "id": "nA7K7IkVlyM6"
      },
      "source": [
        "### P3:  Manter somente os registros referentes aos 51 estados dos Estados Unidos;"
      ]
    },
    {
      "cell_type": "code",
      "metadata": {
        "id": "zMaX7lZ_l_iT",
        "outputId": "197df803-a0c8-47ac-b7ee-a6be04b3febb",
        "colab": {
          "base_uri": "https://localhost:8080/",
          "height": 272
        }
      },
      "source": [
        "df_ovnis.info()"
      ],
      "execution_count": 104,
      "outputs": [
        {
          "output_type": "stream",
          "text": [
            "<class 'pandas.core.frame.DataFrame'>\n",
            "Int64Index: 67235 entries, 0 to 72864\n",
            "Data columns (total 8 columns):\n",
            " #   Column      Non-Null Count  Dtype \n",
            "---  ------      --------------  ----- \n",
            " 0   Unnamed: 0  67235 non-null  int64 \n",
            " 1   DATE/TIME   67235 non-null  object\n",
            " 2   CITY        67235 non-null  object\n",
            " 3   STATE       67235 non-null  object\n",
            " 4   SHAPE       67235 non-null  object\n",
            " 5   DURATION    65758 non-null  object\n",
            " 6   SUMMARY     67229 non-null  object\n",
            " 7   POSTED      67235 non-null  object\n",
            "dtypes: int64(1), object(7)\n",
            "memory usage: 4.6+ MB\n"
          ],
          "name": "stdout"
        }
      ]
    },
    {
      "cell_type": "code",
      "metadata": {
        "id": "E5S_5lujmI-F",
        "outputId": "d2cf2c28-d732-4406-d14b-cc00ed805b2e",
        "colab": {
          "base_uri": "https://localhost:8080/",
          "height": 119
        }
      },
      "source": [
        "# verifica quantos valores existem para a coluna 'STATE'\n",
        "df_ovnis['STATE'].unique()"
      ],
      "execution_count": 105,
      "outputs": [
        {
          "output_type": "execute_result",
          "data": {
            "text/plain": [
              "array(['OR', 'NC', 'ME', 'AZ', 'CA', 'MI', 'PA', 'KY', 'MO', 'AL', 'FL',\n",
              "       'MD', 'CO', 'NS', 'TX', 'NM', 'WA', 'IN', 'LA', 'UT', 'MA', 'NJ',\n",
              "       'CT', 'NY', 'GA', 'SC', 'WI', 'NE', 'MS', 'OH', 'IL', 'WV', 'QC',\n",
              "       'ON', 'OK', 'MN', 'RI', 'NV', 'IA', 'BC', 'MT', 'VA', 'SD', 'KS',\n",
              "       'ND', 'NH', 'TN', 'ID', 'AK', 'AR', 'AB', 'WY', 'DE', 'NT', 'NB',\n",
              "       'PE', 'SK', 'HI', 'VT', 'SA', 'DC', 'MB', 'NF', 'YT'], dtype=object)"
            ]
          },
          "metadata": {
            "tags": []
          },
          "execution_count": 105
        }
      ]
    },
    {
      "cell_type": "code",
      "metadata": {
        "id": "Ki4VFfXHl8Px"
      },
      "source": [
        "# seleciona os estados que não são dos Estados Unidos\n",
        "df_remove = df_ovnis.loc[(df_ovnis['STATE'] == 'NS') | (df_ovnis['STATE'] == 'QC') | (df_ovnis['STATE'] == 'ON') | (df_ovnis['STATE'] == 'BC') | (df_ovnis['STATE'] == 'AB') | (df_ovnis['STATE'] == 'NT') | (df_ovnis['STATE'] == 'NB') | (df_ovnis['STATE'] == 'PE') | (df_ovnis['STATE'] == 'SK') | (df_ovnis['STATE'] == 'SA') | (df_ovnis['STATE'] == 'MB') | (df_ovnis['STATE'] == 'NF') | (df_ovnis['STATE'] == 'YT')]\n",
        "df_remove.head()\n",
        "ultimo_df = df_ovnis.drop(df_remove.index)"
      ],
      "execution_count": 106,
      "outputs": []
    },
    {
      "cell_type": "code",
      "metadata": {
        "id": "wQ_YIknImAT1",
        "outputId": "e22da23f-c6e7-45ba-a448-ce9bc31348f6",
        "colab": {
          "base_uri": "https://localhost:8080/",
          "height": 272
        }
      },
      "source": [
        "# verifica se conseguiu realizar a limpeza\n",
        "ultimo_df.info()"
      ],
      "execution_count": 107,
      "outputs": [
        {
          "output_type": "stream",
          "text": [
            "<class 'pandas.core.frame.DataFrame'>\n",
            "Int64Index: 64665 entries, 0 to 72864\n",
            "Data columns (total 8 columns):\n",
            " #   Column      Non-Null Count  Dtype \n",
            "---  ------      --------------  ----- \n",
            " 0   Unnamed: 0  64665 non-null  int64 \n",
            " 1   DATE/TIME   64665 non-null  object\n",
            " 2   CITY        64665 non-null  object\n",
            " 3   STATE       64665 non-null  object\n",
            " 4   SHAPE       64665 non-null  object\n",
            " 5   DURATION    63251 non-null  object\n",
            " 6   SUMMARY     64659 non-null  object\n",
            " 7   POSTED      64665 non-null  object\n",
            "dtypes: int64(1), object(7)\n",
            "memory usage: 4.4+ MB\n"
          ],
          "name": "stdout"
        }
      ]
    },
    {
      "cell_type": "code",
      "metadata": {
        "id": "fxyH0z9-mD1-",
        "outputId": "9f4c51c9-e78d-4734-c35d-b2c2af18c72b",
        "colab": {
          "base_uri": "https://localhost:8080/",
          "height": 102
        }
      },
      "source": [
        "# segunda verificação\n",
        "ultimo_df['STATE'].unique()"
      ],
      "execution_count": 108,
      "outputs": [
        {
          "output_type": "execute_result",
          "data": {
            "text/plain": [
              "array(['OR', 'NC', 'ME', 'AZ', 'CA', 'MI', 'PA', 'KY', 'MO', 'AL', 'FL',\n",
              "       'MD', 'CO', 'TX', 'NM', 'WA', 'IN', 'LA', 'UT', 'MA', 'NJ', 'CT',\n",
              "       'NY', 'GA', 'SC', 'WI', 'NE', 'MS', 'OH', 'IL', 'WV', 'OK', 'MN',\n",
              "       'RI', 'NV', 'IA', 'MT', 'VA', 'SD', 'KS', 'ND', 'NH', 'TN', 'ID',\n",
              "       'AK', 'AR', 'WY', 'DE', 'HI', 'VT', 'DC'], dtype=object)"
            ]
          },
          "metadata": {
            "tags": []
          },
          "execution_count": 108
        }
      ]
    },
    {
      "cell_type": "code",
      "metadata": {
        "id": "MeGXIxo2mGNj"
      },
      "source": [
        "# salva os novos conjuntos de dados para a próxima seção\n",
        "ultimo_df.to_csv('ovnis_clean.csv', index=False)"
      ],
      "execution_count": 109,
      "outputs": []
    },
    {
      "cell_type": "markdown",
      "metadata": {
        "id": "gOitI31emTTE"
      },
      "source": [
        "### P4: Remover variáveis irrelevantes para a análise (Duration, Summary e Posted);"
      ]
    },
    {
      "cell_type": "code",
      "metadata": {
        "id": "YC7gOvggmq3J",
        "outputId": "6f2adc4b-dd1b-43d6-80b9-9ba1eb0e0331",
        "colab": {
          "base_uri": "https://localhost:8080/",
          "height": 204
        }
      },
      "source": [
        "# Abra o arquivo CSV e mostre algumas linhas\n",
        "df_ovnis = pd.read_csv('ovnis_clean.csv')\n",
        "df_ovnis.head()"
      ],
      "execution_count": 110,
      "outputs": [
        {
          "output_type": "execute_result",
          "data": {
            "text/html": [
              "<div>\n",
              "<style scoped>\n",
              "    .dataframe tbody tr th:only-of-type {\n",
              "        vertical-align: middle;\n",
              "    }\n",
              "\n",
              "    .dataframe tbody tr th {\n",
              "        vertical-align: top;\n",
              "    }\n",
              "\n",
              "    .dataframe thead th {\n",
              "        text-align: right;\n",
              "    }\n",
              "</style>\n",
              "<table border=\"1\" class=\"dataframe\">\n",
              "  <thead>\n",
              "    <tr style=\"text-align: right;\">\n",
              "      <th></th>\n",
              "      <th>Unnamed: 0</th>\n",
              "      <th>DATE/TIME</th>\n",
              "      <th>CITY</th>\n",
              "      <th>STATE</th>\n",
              "      <th>SHAPE</th>\n",
              "      <th>DURATION</th>\n",
              "      <th>SUMMARY</th>\n",
              "      <th>POSTED</th>\n",
              "    </tr>\n",
              "  </thead>\n",
              "  <tbody>\n",
              "    <tr>\n",
              "      <th>0</th>\n",
              "      <td>0</td>\n",
              "      <td>8/31/97 05:15</td>\n",
              "      <td>Lost Lake</td>\n",
              "      <td>OR</td>\n",
              "      <td>Egg</td>\n",
              "      <td>3 min</td>\n",
              "      <td>Two blue egg shaped objects floated past our c...</td>\n",
              "      <td>1/10/09</td>\n",
              "    </tr>\n",
              "    <tr>\n",
              "      <th>1</th>\n",
              "      <td>1</td>\n",
              "      <td>8/30/97 21:00</td>\n",
              "      <td>Ocracoke</td>\n",
              "      <td>NC</td>\n",
              "      <td>Other</td>\n",
              "      <td>5 minutes</td>\n",
              "      <td>Several stationary white lights in a curved sh...</td>\n",
              "      <td>7/14/13</td>\n",
              "    </tr>\n",
              "    <tr>\n",
              "      <th>2</th>\n",
              "      <td>2</td>\n",
              "      <td>8/30/97 19:00</td>\n",
              "      <td>Fort Fairfield</td>\n",
              "      <td>ME</td>\n",
              "      <td>Changing</td>\n",
              "      <td>10 minutes</td>\n",
              "      <td>Huge bright white round orange and red pulsati...</td>\n",
              "      <td>3/18/16</td>\n",
              "    </tr>\n",
              "    <tr>\n",
              "      <th>3</th>\n",
              "      <td>3</td>\n",
              "      <td>8/29/97 22:00</td>\n",
              "      <td>Tucson</td>\n",
              "      <td>AZ</td>\n",
              "      <td>Chevron</td>\n",
              "      <td>20+ secs.</td>\n",
              "      <td>As we traveled the 10e freeway to Tucson the c...</td>\n",
              "      <td>10/30/06</td>\n",
              "    </tr>\n",
              "    <tr>\n",
              "      <th>4</th>\n",
              "      <td>4</td>\n",
              "      <td>8/25/97 22:00</td>\n",
              "      <td>Fontana</td>\n",
              "      <td>CA</td>\n",
              "      <td>Triangle</td>\n",
              "      <td>15 sec.</td>\n",
              "      <td>My brother and I saw 3 lights forming a shape ...</td>\n",
              "      <td>10/30/06</td>\n",
              "    </tr>\n",
              "  </tbody>\n",
              "</table>\n",
              "</div>"
            ],
            "text/plain": [
              "   Unnamed: 0  ...    POSTED\n",
              "0           0  ...   1/10/09\n",
              "1           1  ...   7/14/13\n",
              "2           2  ...   3/18/16\n",
              "3           3  ...  10/30/06\n",
              "4           4  ...  10/30/06\n",
              "\n",
              "[5 rows x 8 columns]"
            ]
          },
          "metadata": {
            "tags": []
          },
          "execution_count": 110
        }
      ]
    },
    {
      "cell_type": "code",
      "metadata": {
        "id": "AbY6Rwm5mXVh",
        "outputId": "f8f2dddf-fa98-47b6-ea2a-d9c60f093b35",
        "colab": {
          "base_uri": "https://localhost:8080/",
          "height": 80
        }
      },
      "source": [
        "# Realizamos a limpeza dos dados aqui\n",
        "# descartamos colunas do conjunto de dados de 'ovnis.clean.csv'\n",
        "df_ovnis.drop(['DURATION', 'SUMMARY', 'POSTED'], axis=1, inplace=True)\n",
        " \n",
        "# visualizamos as mudanças, para confirmarmos as alterações.\n",
        "df_ovnis.head(1)"
      ],
      "execution_count": 111,
      "outputs": [
        {
          "output_type": "execute_result",
          "data": {
            "text/html": [
              "<div>\n",
              "<style scoped>\n",
              "    .dataframe tbody tr th:only-of-type {\n",
              "        vertical-align: middle;\n",
              "    }\n",
              "\n",
              "    .dataframe tbody tr th {\n",
              "        vertical-align: top;\n",
              "    }\n",
              "\n",
              "    .dataframe thead th {\n",
              "        text-align: right;\n",
              "    }\n",
              "</style>\n",
              "<table border=\"1\" class=\"dataframe\">\n",
              "  <thead>\n",
              "    <tr style=\"text-align: right;\">\n",
              "      <th></th>\n",
              "      <th>Unnamed: 0</th>\n",
              "      <th>DATE/TIME</th>\n",
              "      <th>CITY</th>\n",
              "      <th>STATE</th>\n",
              "      <th>SHAPE</th>\n",
              "    </tr>\n",
              "  </thead>\n",
              "  <tbody>\n",
              "    <tr>\n",
              "      <th>0</th>\n",
              "      <td>0</td>\n",
              "      <td>8/31/97 05:15</td>\n",
              "      <td>Lost Lake</td>\n",
              "      <td>OR</td>\n",
              "      <td>Egg</td>\n",
              "    </tr>\n",
              "  </tbody>\n",
              "</table>\n",
              "</div>"
            ],
            "text/plain": [
              "   Unnamed: 0      DATE/TIME       CITY STATE SHAPE\n",
              "0           0  8/31/97 05:15  Lost Lake    OR   Egg"
            ]
          },
          "metadata": {
            "tags": []
          },
          "execution_count": 111
        }
      ]
    },
    {
      "cell_type": "markdown",
      "metadata": {
        "id": "8FDUxkoXnS1q"
      },
      "source": [
        "### P5: Manter somente os registros de Shapes mais populares (com mais de 1000 ocorrências);"
      ]
    },
    {
      "cell_type": "code",
      "metadata": {
        "id": "cMjKa-1ijZFA",
        "outputId": "9fbc1e2e-d029-4afd-f263-11795ebc5319",
        "colab": {
          "base_uri": "https://localhost:8080/",
          "height": 85
        }
      },
      "source": [
        "# verifica quantos valores existem para a coluna 'SHAPE'\n",
        "df_ovnis['SHAPE'].unique()"
      ],
      "execution_count": 112,
      "outputs": [
        {
          "output_type": "execute_result",
          "data": {
            "text/plain": [
              "array(['Egg', 'Other', 'Changing', 'Chevron', 'Triangle', 'Disk',\n",
              "       'Unknown', 'Oval', 'Light', 'Circle', 'Rectangle', 'Sphere',\n",
              "       'Cigar', 'Cylinder', 'Fireball', 'Diamond', 'Formation', 'Flash',\n",
              "       'Cone', 'Teardrop', 'Cross'], dtype=object)"
            ]
          },
          "metadata": {
            "tags": []
          },
          "execution_count": 112
        }
      ]
    },
    {
      "cell_type": "code",
      "metadata": {
        "id": "V1pnlu1VndFK",
        "outputId": "d2ef6898-e90a-4c8c-a654-0fa0e229955a",
        "colab": {
          "base_uri": "https://localhost:8080/",
          "height": 391
        }
      },
      "source": [
        "# verifica quantos valores da coluna 'SHAPE' possuem uma ocorrência superior a 1000.\n",
        "df_ovnis['SHAPE'].value_counts() > 1000"
      ],
      "execution_count": 113,
      "outputs": [
        {
          "output_type": "execute_result",
          "data": {
            "text/plain": [
              "Light         True\n",
              "Circle        True\n",
              "Triangle      True\n",
              "Fireball      True\n",
              "Unknown       True\n",
              "Sphere        True\n",
              "Other         True\n",
              "Oval          True\n",
              "Disk          True\n",
              "Formation     True\n",
              "Changing      True\n",
              "Cigar         True\n",
              "Flash         True\n",
              "Rectangle     True\n",
              "Cylinder     False\n",
              "Diamond      False\n",
              "Chevron      False\n",
              "Teardrop     False\n",
              "Egg          False\n",
              "Cone         False\n",
              "Cross        False\n",
              "Name: SHAPE, dtype: bool"
            ]
          },
          "metadata": {
            "tags": []
          },
          "execution_count": 113
        }
      ]
    },
    {
      "cell_type": "code",
      "metadata": {
        "id": "NmmMq05MiISR"
      },
      "source": [
        "# seleciona os formatos que possuem ocorrências inferiores ou iguais a 1000.\n",
        "df_remove = df_ovnis.loc[df_ovnis['SHAPE'].str.contains('Cross') | df_ovnis['SHAPE'].str.contains('Cone') | df_ovnis['SHAPE'].str.contains('Egg') | df_ovnis['SHAPE'].str.contains('Teardrop') | df_ovnis['SHAPE'].str.contains('Chevron') | df_ovnis['SHAPE'].str.contains('Diamond') | df_ovnis['SHAPE'].str.contains('Cylinder')]\n",
        "df_remove\n",
        "# aqui eliminamos as ocorrências inferiores ou iguais a 1000 do DataFrame.\n",
        "# desta forma, só sobram as ocorrências superiores a 1000.\n",
        "ultimo_df = df_ovnis.drop(df_remove.index)"
      ],
      "execution_count": 114,
      "outputs": []
    },
    {
      "cell_type": "code",
      "metadata": {
        "id": "xwUOBNxdrYFQ",
        "outputId": "41ab3c59-a7fd-4502-ae1d-35c95efca8a2",
        "colab": {
          "base_uri": "https://localhost:8080/",
          "height": 272
        }
      },
      "source": [
        "# aqui verificamos se os valores inferiores foram mesmo eliminados\n",
        "ultimo_df['SHAPE'].value_counts() > 1000"
      ],
      "execution_count": 115,
      "outputs": [
        {
          "output_type": "execute_result",
          "data": {
            "text/plain": [
              "Light        True\n",
              "Circle       True\n",
              "Triangle     True\n",
              "Fireball     True\n",
              "Unknown      True\n",
              "Sphere       True\n",
              "Other        True\n",
              "Oval         True\n",
              "Disk         True\n",
              "Formation    True\n",
              "Changing     True\n",
              "Cigar        True\n",
              "Flash        True\n",
              "Rectangle    True\n",
              "Name: SHAPE, dtype: bool"
            ]
          },
          "metadata": {
            "tags": []
          },
          "execution_count": 115
        }
      ]
    },
    {
      "cell_type": "markdown",
      "metadata": {
        "id": "xnnVZsPapKXc"
      },
      "source": [
        "\n",
        "### P6: Salvar o dataframe final em um arquivo CSV com o nome \"df_OVNI_limpo\"."
      ]
    },
    {
      "cell_type": "code",
      "metadata": {
        "id": "DfoMRXVQpPAa"
      },
      "source": [
        "# salva os novos conjuntos de dados para a próxima seção\n",
        "ultimo_df.to_csv('df_OVNI_limpo.csv', index=False)"
      ],
      "execution_count": 116,
      "outputs": []
    }
  ]
}