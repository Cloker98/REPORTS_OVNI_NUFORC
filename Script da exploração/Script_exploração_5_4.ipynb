{
  "nbformat": 4,
  "nbformat_minor": 0,
  "metadata": {
    "colab": {
      "name": "Script_exploração_5.4.ipynb",
      "provenance": [],
      "collapsed_sections": [
        "11mcJlu_tdeC",
        "-QyMbwr6tkRE",
        "oFuuIS90zSYW"
      ],
      "toc_visible": true
    },
    "kernelspec": {
      "name": "python3",
      "display_name": "Python 3"
    }
  },
  "cells": [
    {
      "cell_type": "markdown",
      "metadata": {
        "id": "WWRsWlGrqQrs",
        "colab_type": "text"
      },
      "source": [
        "#SCRIPT EXPLORAÇÃO\n",
        "\n",
        "Lista de itens obrigatórios para essa exploração\n",
        "\n",
        "1. Saber a quantidade de linhas, observações ou variáveis que foram coletadas.\n",
        "2. Quantos relatos ocorreram por estado em ordem decrescente?\n",
        "3. Remover possíveis campos vazios (sem estado).\n",
        "4. Limitar a análise aos estados dos Estados Unidos.\n",
        "5. Consulta por cidades, com o objetivo de saber quais contêm o maior número de relatos (cidades que apresentem ao menos 10 relatos).\n",
        "6. Com o dado anterior, responder a seguinte pergunta: por que será que essa é a cidade que possui mais relatos?\n",
        "7. Fazer uma query exclusiva para o estado com maior número de relatos, buscando cidades que possuam um número superior a 10 relatórios. Enfatizar a cidade, a quantidade de relatos e formato do objeto não identificado.\n"
      ]
    },
    {
      "cell_type": "markdown",
      "metadata": {
        "id": "9LpNihu_DqpO",
        "colab_type": "text"
      },
      "source": [
        "### Etapa inicial"
      ]
    },
    {
      "cell_type": "code",
      "metadata": {
        "id": "nsUbKbJnrkjg",
        "colab_type": "code",
        "colab": {}
      },
      "source": [
        "# Os imports, que vamos usar para realizarmos as análises \n",
        "# também pode-se usar outras bibliotecas se desejar.\n",
        "import pandas as pd\n",
        "import numpy as np"
      ],
      "execution_count": 1,
      "outputs": []
    },
    {
      "cell_type": "code",
      "metadata": {
        "id": "GR6i4gQlsM4K",
        "colab_type": "code",
        "colab": {
          "base_uri": "https://localhost:8080/",
          "height": 204
        },
        "outputId": "f001c93e-3d94-4ddc-8b81-1d369c410686"
      },
      "source": [
        "# Abra o arquivo CSV e mostre algumas linhas\n",
        "df_ovnis = pd.read_csv('ovnis_tabela.csv')\n",
        "df_ovnis.head()"
      ],
      "execution_count": 2,
      "outputs": [
        {
          "output_type": "execute_result",
          "data": {
            "text/html": [
              "<div>\n",
              "<style scoped>\n",
              "    .dataframe tbody tr th:only-of-type {\n",
              "        vertical-align: middle;\n",
              "    }\n",
              "\n",
              "    .dataframe tbody tr th {\n",
              "        vertical-align: top;\n",
              "    }\n",
              "\n",
              "    .dataframe thead th {\n",
              "        text-align: right;\n",
              "    }\n",
              "</style>\n",
              "<table border=\"1\" class=\"dataframe\">\n",
              "  <thead>\n",
              "    <tr style=\"text-align: right;\">\n",
              "      <th></th>\n",
              "      <th>Unnamed: 0</th>\n",
              "      <th>DATE/TIME</th>\n",
              "      <th>CITY</th>\n",
              "      <th>STATE</th>\n",
              "      <th>SHAPE</th>\n",
              "      <th>DURATION</th>\n",
              "      <th>SUMMARY</th>\n",
              "      <th>POSTED</th>\n",
              "    </tr>\n",
              "  </thead>\n",
              "  <tbody>\n",
              "    <tr>\n",
              "      <th>0</th>\n",
              "      <td>0</td>\n",
              "      <td>8/31/97 05:15</td>\n",
              "      <td>Lost Lake</td>\n",
              "      <td>OR</td>\n",
              "      <td>Egg</td>\n",
              "      <td>3 min</td>\n",
              "      <td>Two blue egg shaped objects floated past our c...</td>\n",
              "      <td>1/10/09</td>\n",
              "    </tr>\n",
              "    <tr>\n",
              "      <th>1</th>\n",
              "      <td>1</td>\n",
              "      <td>8/30/97 21:00</td>\n",
              "      <td>Ocracoke</td>\n",
              "      <td>NC</td>\n",
              "      <td>Other</td>\n",
              "      <td>5 minutes</td>\n",
              "      <td>Several stationary white lights in a curved sh...</td>\n",
              "      <td>7/14/13</td>\n",
              "    </tr>\n",
              "    <tr>\n",
              "      <th>2</th>\n",
              "      <td>2</td>\n",
              "      <td>8/30/97 19:00</td>\n",
              "      <td>Fort Fairfield</td>\n",
              "      <td>ME</td>\n",
              "      <td>Changing</td>\n",
              "      <td>10 minutes</td>\n",
              "      <td>Huge bright white round orange and red pulsati...</td>\n",
              "      <td>3/18/16</td>\n",
              "    </tr>\n",
              "    <tr>\n",
              "      <th>3</th>\n",
              "      <td>3</td>\n",
              "      <td>8/29/97 22:00</td>\n",
              "      <td>Tucson</td>\n",
              "      <td>AZ</td>\n",
              "      <td>Chevron</td>\n",
              "      <td>20+ secs.</td>\n",
              "      <td>As we traveled the 10e freeway to Tucson the c...</td>\n",
              "      <td>10/30/06</td>\n",
              "    </tr>\n",
              "    <tr>\n",
              "      <th>4</th>\n",
              "      <td>4</td>\n",
              "      <td>8/25/97 22:00</td>\n",
              "      <td>Fontana</td>\n",
              "      <td>CA</td>\n",
              "      <td>Triangle</td>\n",
              "      <td>15 sec.</td>\n",
              "      <td>My brother and I saw 3 lights forming a shape ...</td>\n",
              "      <td>10/30/06</td>\n",
              "    </tr>\n",
              "  </tbody>\n",
              "</table>\n",
              "</div>"
            ],
            "text/plain": [
              "   Unnamed: 0  ...    POSTED\n",
              "0           0  ...   1/10/09\n",
              "1           1  ...   7/14/13\n",
              "2           2  ...   3/18/16\n",
              "3           3  ...  10/30/06\n",
              "4           4  ...  10/30/06\n",
              "\n",
              "[5 rows x 8 columns]"
            ]
          },
          "metadata": {
            "tags": []
          },
          "execution_count": 2
        }
      ]
    },
    {
      "cell_type": "markdown",
      "metadata": {
        "id": "uWOPgQ5esfed",
        "colab_type": "text"
      },
      "source": [
        "## Análise \n",
        "\n",
        "Iremos agora com a utilização de informações visuais responder as perguntas elaboradas anteriormente.\n",
        "\n",
        "\n"
      ]
    },
    {
      "cell_type": "markdown",
      "metadata": {
        "id": "11mcJlu_tdeC",
        "colab_type": "text"
      },
      "source": [
        "\n",
        "### P1: Saber a quantidade de linhas, observações ou variáveis que foram coletadas.\n",
        "\n",
        "Vamos realizar uma exploração nos dados."
      ]
    },
    {
      "cell_type": "code",
      "metadata": {
        "id": "37Mjaf86suKN",
        "colab_type": "code",
        "colab": {
          "base_uri": "https://localhost:8080/",
          "height": 272
        },
        "outputId": "b2d80065-5d93-4be1-9324-caf8f0808822"
      },
      "source": [
        "df_ovnis.info()"
      ],
      "execution_count": 3,
      "outputs": [
        {
          "output_type": "stream",
          "text": [
            "<class 'pandas.core.frame.DataFrame'>\n",
            "RangeIndex: 72865 entries, 0 to 72864\n",
            "Data columns (total 8 columns):\n",
            " #   Column      Non-Null Count  Dtype \n",
            "---  ------      --------------  ----- \n",
            " 0   Unnamed: 0  72865 non-null  int64 \n",
            " 1   DATE/TIME   72865 non-null  object\n",
            " 2   CITY        72721 non-null  object\n",
            " 3   STATE       68504 non-null  object\n",
            " 4   SHAPE       71457 non-null  object\n",
            " 5   DURATION    70890 non-null  object\n",
            " 6   SUMMARY     72858 non-null  object\n",
            " 7   POSTED      72865 non-null  object\n",
            "dtypes: int64(1), object(7)\n",
            "memory usage: 4.4+ MB\n"
          ],
          "name": "stdout"
        }
      ]
    },
    {
      "cell_type": "markdown",
      "metadata": {
        "id": "vVY-JwBhs8te",
        "colab_type": "text"
      },
      "source": [
        "Podemos ver a quantidade de linhas, observações e variáveis que foram coletadas, e constatamos que existem dados faltantes nesse dataframe. Porém, iremos trabalhas com os dados incompletos mesmo. \n"
      ]
    },
    {
      "cell_type": "markdown",
      "metadata": {
        "id": "-QyMbwr6tkRE",
        "colab_type": "text"
      },
      "source": [
        "### P2: Quantos relatos ocorreram por estado em ordem decrescente?\n"
      ]
    },
    {
      "cell_type": "code",
      "metadata": {
        "id": "A-5MB-FXvNVp",
        "colab_type": "code",
        "colab": {
          "base_uri": "https://localhost:8080/",
          "height": 136
        },
        "outputId": "918a0853-9eda-44d4-8885-b3bb0418a522"
      },
      "source": [
        "df_ovnis['STATE']\n",
        "#descobre todos os estados possiveis\n",
        "df_ovnis['STATE'].unique()"
      ],
      "execution_count": 4,
      "outputs": [
        {
          "output_type": "execute_result",
          "data": {
            "text/plain": [
              "array(['OR', 'NC', 'ME', 'AZ', 'CA', 'MI', 'PA', 'KY', nan, 'MO', 'AL',\n",
              "       'FL', 'MD', 'CO', 'NS', 'TX', 'NM', 'WA', 'IN', 'LA', 'UT', 'MA',\n",
              "       'NJ', 'CT', 'NY', 'GA', 'SC', 'WI', 'NE', 'MS', 'OH', 'IL', 'WV',\n",
              "       'QC', 'ON', 'OK', 'MN', 'RI', 'NV', 'IA', 'BC', 'MT', 'VA', 'SD',\n",
              "       'KS', 'ND', 'NH', 'TN', 'ID', 'AK', 'AR', 'AB', 'WY', 'DE', 'NT',\n",
              "       'NB', 'PE', 'SK', 'HI', 'VT', 'SA', 'DC', 'MB', 'NF', 'YT'],\n",
              "      dtype=object)"
            ]
          },
          "metadata": {
            "tags": []
          },
          "execution_count": 4
        }
      ]
    },
    {
      "cell_type": "code",
      "metadata": {
        "id": "XUK0AsoZyZG-",
        "colab_type": "code",
        "colab": {
          "base_uri": "https://localhost:8080/",
          "height": 221
        },
        "outputId": "1b8bbd6a-7569-47f0-fa7d-8637f4df1332"
      },
      "source": [
        "df_ovnis['STATE'].value_counts()"
      ],
      "execution_count": 5,
      "outputs": [
        {
          "output_type": "execute_result",
          "data": {
            "text/plain": [
              "CA    8019\n",
              "FL    4405\n",
              "WA    3266\n",
              "TX    2897\n",
              "NY    2861\n",
              "      ... \n",
              "NF      22\n",
              "YT      14\n",
              "PE       9\n",
              "NT       7\n",
              "SA       4\n",
              "Name: STATE, Length: 64, dtype: int64"
            ]
          },
          "metadata": {
            "tags": []
          },
          "execution_count": 5
        }
      ]
    },
    {
      "cell_type": "markdown",
      "metadata": {
        "id": "oFuuIS90zSYW",
        "colab_type": "text"
      },
      "source": [
        "###P3: Remover possíveis campos vazios (sem estado)."
      ]
    },
    {
      "cell_type": "code",
      "metadata": {
        "id": "xyNd1KvEzWvd",
        "colab_type": "code",
        "colab": {
          "base_uri": "https://localhost:8080/",
          "height": 170
        },
        "outputId": "adc02bf3-4c33-41d8-f317-b7a7ea6ab524"
      },
      "source": [
        "# exiba a contagem de valores faltantes para cada atributo em OVNIS\n",
        "df_ovnis.isnull().sum()"
      ],
      "execution_count": 6,
      "outputs": [
        {
          "output_type": "execute_result",
          "data": {
            "text/plain": [
              "Unnamed: 0       0\n",
              "DATE/TIME        0\n",
              "CITY           144\n",
              "STATE         4361\n",
              "SHAPE         1408\n",
              "DURATION      1975\n",
              "SUMMARY          7\n",
              "POSTED           0\n",
              "dtype: int64"
            ]
          },
          "metadata": {
            "tags": []
          },
          "execution_count": 6
        }
      ]
    },
    {
      "cell_type": "markdown",
      "metadata": {
        "id": "7G1uiCrXz4Qu",
        "colab_type": "text"
      },
      "source": [
        "Existem 4361 estados com valores nulos, nós vamos remover esses dados.\n"
      ]
    },
    {
      "cell_type": "code",
      "metadata": {
        "id": "Aoop8k3tz_jR",
        "colab_type": "code",
        "colab": {}
      },
      "source": [
        "#Remove os campos vazios que não possuem estado\n",
        "df_ovnis.dropna(subset=['STATE'], inplace=True)"
      ],
      "execution_count": 7,
      "outputs": []
    },
    {
      "cell_type": "code",
      "metadata": {
        "id": "6fZdAfpK1AFA",
        "colab_type": "code",
        "colab": {
          "base_uri": "https://localhost:8080/",
          "height": 170
        },
        "outputId": "e2cb94eb-344f-4119-d9c0-fccd9f94e9fe"
      },
      "source": [
        "df_ovnis.isnull().sum()"
      ],
      "execution_count": 8,
      "outputs": [
        {
          "output_type": "execute_result",
          "data": {
            "text/plain": [
              "Unnamed: 0       0\n",
              "DATE/TIME        0\n",
              "CITY            74\n",
              "STATE            0\n",
              "SHAPE         1202\n",
              "DURATION      1733\n",
              "SUMMARY          7\n",
              "POSTED           0\n",
              "dtype: int64"
            ]
          },
          "metadata": {
            "tags": []
          },
          "execution_count": 8
        }
      ]
    },
    {
      "cell_type": "markdown",
      "metadata": {
        "id": "5Qa6lp-t1v8l",
        "colab_type": "text"
      },
      "source": [
        "Agora vamos salvar o progresso para a próxima etapa, o que nos fará poupar tempo e trabalho, em vez de toda vez termos de realizar a limpeza ao abrir o notebook."
      ]
    },
    {
      "cell_type": "code",
      "metadata": {
        "id": "rFU-P5Ge1UT8",
        "colab_type": "code",
        "colab": {}
      },
      "source": [
        "# salva os novos conjuntos de dados para a próxima seção\n",
        "df_ovnis.to_csv('ovnis_clean.csv', index=False)"
      ],
      "execution_count": 9,
      "outputs": []
    },
    {
      "cell_type": "markdown",
      "metadata": {
        "id": "fo1bejQ819Ik",
        "colab_type": "text"
      },
      "source": [
        "###P4: Limitar a análise aos estados dos Estados Unidos."
      ]
    },
    {
      "cell_type": "code",
      "metadata": {
        "id": "lP7slY4o19te",
        "colab_type": "code",
        "colab": {}
      },
      "source": [
        "# abre o novo conjunto de dados que foi criado após realizarmos a limpeza dos dados\n",
        "df_ovnis = pd.read_csv('ovnis_clean.csv')"
      ],
      "execution_count": 10,
      "outputs": []
    },
    {
      "cell_type": "code",
      "metadata": {
        "id": "7c4LVVFC435q",
        "colab_type": "code",
        "colab": {
          "base_uri": "https://localhost:8080/",
          "height": 272
        },
        "outputId": "301409a2-d8d9-43c6-b845-e951fa52bf8c"
      },
      "source": [
        "df_ovnis.info()"
      ],
      "execution_count": 11,
      "outputs": [
        {
          "output_type": "stream",
          "text": [
            "<class 'pandas.core.frame.DataFrame'>\n",
            "RangeIndex: 68504 entries, 0 to 68503\n",
            "Data columns (total 8 columns):\n",
            " #   Column      Non-Null Count  Dtype \n",
            "---  ------      --------------  ----- \n",
            " 0   Unnamed: 0  68504 non-null  int64 \n",
            " 1   DATE/TIME   68504 non-null  object\n",
            " 2   CITY        68430 non-null  object\n",
            " 3   STATE       68504 non-null  object\n",
            " 4   SHAPE       67302 non-null  object\n",
            " 5   DURATION    66771 non-null  object\n",
            " 6   SUMMARY     68497 non-null  object\n",
            " 7   POSTED      68504 non-null  object\n",
            "dtypes: int64(1), object(7)\n",
            "memory usage: 4.2+ MB\n"
          ],
          "name": "stdout"
        }
      ]
    },
    {
      "cell_type": "code",
      "metadata": {
        "id": "3SRrpA602k2X",
        "colab_type": "code",
        "colab": {
          "base_uri": "https://localhost:8080/",
          "height": 119
        },
        "outputId": "6ad661a2-74f4-4a1b-9d72-8b81cedf174a"
      },
      "source": [
        "df_ovnis['STATE'].unique()"
      ],
      "execution_count": 12,
      "outputs": [
        {
          "output_type": "execute_result",
          "data": {
            "text/plain": [
              "array(['OR', 'NC', 'ME', 'AZ', 'CA', 'MI', 'PA', 'KY', 'MO', 'AL', 'FL',\n",
              "       'MD', 'CO', 'NS', 'TX', 'NM', 'WA', 'IN', 'LA', 'UT', 'MA', 'NJ',\n",
              "       'CT', 'NY', 'GA', 'SC', 'WI', 'NE', 'MS', 'OH', 'IL', 'WV', 'QC',\n",
              "       'ON', 'OK', 'MN', 'RI', 'NV', 'IA', 'BC', 'MT', 'VA', 'SD', 'KS',\n",
              "       'ND', 'NH', 'TN', 'ID', 'AK', 'AR', 'AB', 'WY', 'DE', 'NT', 'NB',\n",
              "       'PE', 'SK', 'HI', 'VT', 'SA', 'DC', 'MB', 'NF', 'YT'], dtype=object)"
            ]
          },
          "metadata": {
            "tags": []
          },
          "execution_count": 12
        }
      ]
    },
    {
      "cell_type": "code",
      "metadata": {
        "id": "m7C4YPEq3Pn-",
        "colab_type": "code",
        "colab": {}
      },
      "source": [
        "# seleciona os estados que não são dos Estados Unidos\n",
        "df_remove = df_ovnis.loc[(df_ovnis['STATE'] == 'NS') | (df_ovnis['STATE'] == 'QC') | (df_ovnis['STATE'] == 'ON') | (df_ovnis['STATE'] == 'BC') | (df_ovnis['STATE'] == 'AB') | (df_ovnis['STATE'] == 'NT') | (df_ovnis['STATE'] == 'NB') | (df_ovnis['STATE'] == 'PE') | (df_ovnis['STATE'] == 'SK') | (df_ovnis['STATE'] == 'SA') | (df_ovnis['STATE'] == 'MB') | (df_ovnis['STATE'] == 'NF') | (df_ovnis['STATE'] == 'YT')]\n",
        "df_remove.head()\n",
        "ultimo_df = df_ovnis.drop(df_remove.index)"
      ],
      "execution_count": 13,
      "outputs": []
    },
    {
      "cell_type": "code",
      "metadata": {
        "id": "Bwfty2w37uXC",
        "colab_type": "code",
        "colab": {
          "base_uri": "https://localhost:8080/",
          "height": 272
        },
        "outputId": "7fead48d-14cb-495f-971b-86205058bb6b"
      },
      "source": [
        "# verifica se conseguiu realizar a limpeza\n",
        "ultimo_df.info()"
      ],
      "execution_count": 14,
      "outputs": [
        {
          "output_type": "stream",
          "text": [
            "<class 'pandas.core.frame.DataFrame'>\n",
            "Int64Index: 65869 entries, 0 to 68503\n",
            "Data columns (total 8 columns):\n",
            " #   Column      Non-Null Count  Dtype \n",
            "---  ------      --------------  ----- \n",
            " 0   Unnamed: 0  65869 non-null  int64 \n",
            " 1   DATE/TIME   65869 non-null  object\n",
            " 2   CITY        65795 non-null  object\n",
            " 3   STATE       65869 non-null  object\n",
            " 4   SHAPE       64732 non-null  object\n",
            " 5   DURATION    64208 non-null  object\n",
            " 6   SUMMARY     65862 non-null  object\n",
            " 7   POSTED      65869 non-null  object\n",
            "dtypes: int64(1), object(7)\n",
            "memory usage: 4.5+ MB\n"
          ],
          "name": "stdout"
        }
      ]
    },
    {
      "cell_type": "code",
      "metadata": {
        "id": "0H4wNuLF8Uze",
        "colab_type": "code",
        "colab": {
          "base_uri": "https://localhost:8080/",
          "height": 102
        },
        "outputId": "435aa050-e711-4cd0-e9de-445ea2242a6a"
      },
      "source": [
        "# segunda verificação\n",
        "ultimo_df['STATE'].unique()"
      ],
      "execution_count": 15,
      "outputs": [
        {
          "output_type": "execute_result",
          "data": {
            "text/plain": [
              "array(['OR', 'NC', 'ME', 'AZ', 'CA', 'MI', 'PA', 'KY', 'MO', 'AL', 'FL',\n",
              "       'MD', 'CO', 'TX', 'NM', 'WA', 'IN', 'LA', 'UT', 'MA', 'NJ', 'CT',\n",
              "       'NY', 'GA', 'SC', 'WI', 'NE', 'MS', 'OH', 'IL', 'WV', 'OK', 'MN',\n",
              "       'RI', 'NV', 'IA', 'MT', 'VA', 'SD', 'KS', 'ND', 'NH', 'TN', 'ID',\n",
              "       'AK', 'AR', 'WY', 'DE', 'HI', 'VT', 'DC'], dtype=object)"
            ]
          },
          "metadata": {
            "tags": []
          },
          "execution_count": 15
        }
      ]
    },
    {
      "cell_type": "code",
      "metadata": {
        "id": "z4cZsG9-7m03",
        "colab_type": "code",
        "colab": {}
      },
      "source": [
        "# salva os novos conjuntos de dados para a próxima seção\n",
        "ultimo_df.to_csv('ovnis_clean.csv', index=False)"
      ],
      "execution_count": 16,
      "outputs": []
    },
    {
      "cell_type": "markdown",
      "metadata": {
        "id": "SUy4wYbh8hil",
        "colab_type": "text"
      },
      "source": [
        "###P5: Consulta por cidades, com o objetivo de saber quais contêm o maior número de relatos (cidades que apresentem ao menos 10 relatos)."
      ]
    },
    {
      "cell_type": "code",
      "metadata": {
        "id": "O8yEl8908qB1",
        "colab_type": "code",
        "colab": {}
      },
      "source": [
        "# abre o novo conjunto de dados que foi criado após realizarmos a limpeza dos dados\n",
        "df_ovnis = pd.read_csv('ovnis_clean.csv')"
      ],
      "execution_count": 17,
      "outputs": []
    },
    {
      "cell_type": "code",
      "metadata": {
        "id": "qRYaGcMF9vrF",
        "colab_type": "code",
        "colab": {
          "base_uri": "https://localhost:8080/",
          "height": 221
        },
        "outputId": "b6102a3f-c917-458e-9901-4148b3b066b1"
      },
      "source": [
        "df_ovnis['CITY'].value_counts()"
      ],
      "execution_count": 18,
      "outputs": [
        {
          "output_type": "execute_result",
          "data": {
            "text/plain": [
              "Phoenix                         368\n",
              "Las Vegas                       341\n",
              "Seattle                         330\n",
              "Portland                        322\n",
              "San Diego                       280\n",
              "                               ... \n",
              "Islamorada (Keys)                 1\n",
              "Rugby                             1\n",
              "Esko                              1\n",
              "Allendorf                         1\n",
              "Kansas City/Norton (between)      1\n",
              "Name: CITY, Length: 13192, dtype: int64"
            ]
          },
          "metadata": {
            "tags": []
          },
          "execution_count": 18
        }
      ]
    },
    {
      "cell_type": "code",
      "metadata": {
        "id": "_mX5nXv4DL4M",
        "colab_type": "code",
        "colab": {
          "base_uri": "https://localhost:8080/",
          "height": 221
        },
        "outputId": "73321b52-5ff2-4d55-de2f-b99819e910ae"
      },
      "source": [
        "df_ovnis['CITY'].value_counts() >= 10"
      ],
      "execution_count": 19,
      "outputs": [
        {
          "output_type": "execute_result",
          "data": {
            "text/plain": [
              "Phoenix                          True\n",
              "Las Vegas                        True\n",
              "Seattle                          True\n",
              "Portland                         True\n",
              "San Diego                        True\n",
              "                                ...  \n",
              "Islamorada (Keys)               False\n",
              "Rugby                           False\n",
              "Esko                            False\n",
              "Allendorf                       False\n",
              "Kansas City/Norton (between)    False\n",
              "Name: CITY, Length: 13192, dtype: bool"
            ]
          },
          "metadata": {
            "tags": []
          },
          "execution_count": 19
        }
      ]
    },
    {
      "cell_type": "code",
      "metadata": {
        "id": "3tFt-87OASB_",
        "colab_type": "code",
        "colab": {
          "base_uri": "https://localhost:8080/",
          "height": 238
        },
        "outputId": "a7c84f29-e385-47ff-e9af-21b4d13381fc"
      },
      "source": [
        "# seleciona as cidades que possuem o maior número de relatos.\n",
        "df_cidades_mr = df_ovnis['CITY'].value_counts() >= 10\n",
        "df_cidades_mr = df_ovnis.groupby('CITY').count()\n",
        "df_cidades_mr = df_cidades_mr.sort_values(ascending=False, by=\"POSTED\")\n",
        "df_cidades_mr = df_cidades_mr.query('POSTED >= 10')['POSTED']\n",
        "\n",
        "df_cidades_mr\n",
        "\n",
        "#for i in df_cidades_mr:\n",
        "#    print(i) \n",
        "#if df_cidades_mr. == True:\n",
        "  #print(df_cidades_mr.attrs)"
      ],
      "execution_count": 20,
      "outputs": [
        {
          "output_type": "execute_result",
          "data": {
            "text/plain": [
              "CITY\n",
              "Phoenix        368\n",
              "Las Vegas      341\n",
              "Seattle        330\n",
              "Portland       322\n",
              "San Diego      280\n",
              "              ... \n",
              "Lenexa          10\n",
              "Brockton        10\n",
              "West Covina     10\n",
              "Antelope        10\n",
              "Houma           10\n",
              "Name: POSTED, Length: 1433, dtype: int64"
            ]
          },
          "metadata": {
            "tags": []
          },
          "execution_count": 20
        }
      ]
    },
    {
      "cell_type": "markdown",
      "metadata": {
        "id": "ttnEjGgGDg6I",
        "colab_type": "text"
      },
      "source": [
        "###P6: Com o dado anterior, responder a seguinte pergunta: por que será que essa é a cidade que possui mais relatos?"
      ]
    },
    {
      "cell_type": "markdown",
      "metadata": {
        "id": "VSkZFIHMx6tP",
        "colab_type": "text"
      },
      "source": [
        "Phoenix é a cidade que possui mais relatos. Porque é uma cidade com muitas bases aéreas, as pessoas achavam que viam ovnis quando na realidade estavam vendo aeronaves."
      ]
    },
    {
      "cell_type": "markdown",
      "metadata": {
        "id": "BQdNJ-v6sskU",
        "colab_type": "text"
      },
      "source": [
        "### P7: Fazer uma query exclusiva para o estado com maior número de relatos, buscando cidades que possuam um número superior a 10 relatórios. Enfatizar a cidade, a quantidade de relatos e formato do objeto não identificado."
      ]
    },
    {
      "cell_type": "code",
      "metadata": {
        "id": "iYxg-6ZSySne",
        "colab_type": "code",
        "colab": {
          "base_uri": "https://localhost:8080/",
          "height": 419
        },
        "outputId": "d5577b04-0314-4242-f8bd-a8a8876d33bd"
      },
      "source": [
        "# Nós vimos na pergunta 2 que o estado com mais casos era a \"CA\", califórnia.\n",
        "state_california = df_ovnis[df_ovnis['STATE']=='CA']\n",
        "\n",
        "COLUNAS = [\n",
        "    'CIDADE',\n",
        "    'QUANTIDADE',\n",
        "    'FORMATO'\n",
        "]\n",
        "\n",
        "df_final = pd.DataFrame(columns=COLUNAS)\n",
        "df_final['CIDADE'] = state_california['CITY']\n",
        "df_final['QUANTIDADE'] = state_california.groupby('CITY')['CITY'].transform('count')\n",
        "df_final['FORMATO'] = state_california['SHAPE']\n",
        "\n",
        "#gera arquivo .csv\n",
        "df_final.to_csv(\"ovnis_maiores_relatos.csv\")\n",
        "\n",
        "df_final"
      ],
      "execution_count": 21,
      "outputs": [
        {
          "output_type": "execute_result",
          "data": {
            "text/html": [
              "<div>\n",
              "<style scoped>\n",
              "    .dataframe tbody tr th:only-of-type {\n",
              "        vertical-align: middle;\n",
              "    }\n",
              "\n",
              "    .dataframe tbody tr th {\n",
              "        vertical-align: top;\n",
              "    }\n",
              "\n",
              "    .dataframe thead th {\n",
              "        text-align: right;\n",
              "    }\n",
              "</style>\n",
              "<table border=\"1\" class=\"dataframe\">\n",
              "  <thead>\n",
              "    <tr style=\"text-align: right;\">\n",
              "      <th></th>\n",
              "      <th>CIDADE</th>\n",
              "      <th>QUANTIDADE</th>\n",
              "      <th>FORMATO</th>\n",
              "    </tr>\n",
              "  </thead>\n",
              "  <tbody>\n",
              "    <tr>\n",
              "      <th>4</th>\n",
              "      <td>Fontana</td>\n",
              "      <td>24.0</td>\n",
              "      <td>Triangle</td>\n",
              "    </tr>\n",
              "    <tr>\n",
              "      <th>15</th>\n",
              "      <td>Santa Monica &amp; Brentwood</td>\n",
              "      <td>1.0</td>\n",
              "      <td>Light</td>\n",
              "    </tr>\n",
              "    <tr>\n",
              "      <th>17</th>\n",
              "      <td>Garden Grove</td>\n",
              "      <td>30.0</td>\n",
              "      <td>Rectangle</td>\n",
              "    </tr>\n",
              "    <tr>\n",
              "      <th>26</th>\n",
              "      <td>Carlsbad</td>\n",
              "      <td>39.0</td>\n",
              "      <td>Light</td>\n",
              "    </tr>\n",
              "    <tr>\n",
              "      <th>28</th>\n",
              "      <td>Milford</td>\n",
              "      <td>2.0</td>\n",
              "      <td>Disk</td>\n",
              "    </tr>\n",
              "    <tr>\n",
              "      <th>...</th>\n",
              "      <td>...</td>\n",
              "      <td>...</td>\n",
              "      <td>...</td>\n",
              "    </tr>\n",
              "    <tr>\n",
              "      <th>65806</th>\n",
              "      <td>Santa Clarita</td>\n",
              "      <td>18.0</td>\n",
              "      <td>Light</td>\n",
              "    </tr>\n",
              "    <tr>\n",
              "      <th>65840</th>\n",
              "      <td>San Jose</td>\n",
              "      <td>160.0</td>\n",
              "      <td>Oval</td>\n",
              "    </tr>\n",
              "    <tr>\n",
              "      <th>65849</th>\n",
              "      <td>Rancho Palos Verdes</td>\n",
              "      <td>8.0</td>\n",
              "      <td>Triangle</td>\n",
              "    </tr>\n",
              "    <tr>\n",
              "      <th>65852</th>\n",
              "      <td>Sacramento</td>\n",
              "      <td>177.0</td>\n",
              "      <td>Unknown</td>\n",
              "    </tr>\n",
              "    <tr>\n",
              "      <th>65854</th>\n",
              "      <td>Tarzana</td>\n",
              "      <td>7.0</td>\n",
              "      <td>Cigar</td>\n",
              "    </tr>\n",
              "  </tbody>\n",
              "</table>\n",
              "<p>8019 rows × 3 columns</p>\n",
              "</div>"
            ],
            "text/plain": [
              "                         CIDADE  QUANTIDADE    FORMATO\n",
              "4                       Fontana        24.0   Triangle\n",
              "15     Santa Monica & Brentwood         1.0      Light\n",
              "17                 Garden Grove        30.0  Rectangle\n",
              "26                     Carlsbad        39.0      Light\n",
              "28                      Milford         2.0       Disk\n",
              "...                         ...         ...        ...\n",
              "65806             Santa Clarita        18.0      Light\n",
              "65840                  San Jose       160.0       Oval\n",
              "65849       Rancho Palos Verdes         8.0   Triangle\n",
              "65852                Sacramento       177.0    Unknown\n",
              "65854                   Tarzana         7.0      Cigar\n",
              "\n",
              "[8019 rows x 3 columns]"
            ]
          },
          "metadata": {
            "tags": []
          },
          "execution_count": 21
        }
      ]
    }
  ]
}