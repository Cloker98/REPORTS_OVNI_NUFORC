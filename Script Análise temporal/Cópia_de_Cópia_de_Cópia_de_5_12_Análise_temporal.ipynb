{
  "nbformat": 4,
  "nbformat_minor": 0,
  "metadata": {
    "colab": {
      "name": "Cópia de Cópia de Cópia de 5.12 - Análise temporal.ipynb",
      "provenance": [],
      "collapsed_sections": [
        "sQxuBSbQDgxa"
      ],
      "toc_visible": true
    },
    "kernelspec": {
      "name": "python3",
      "display_name": "Python 3"
    }
  },
  "cells": [
    {
      "cell_type": "markdown",
      "metadata": {
        "id": "4Y8_vR3It74H"
      },
      "source": [
        "#SCRIPT ANÁLISE TEMPORAL\n",
        "\n",
        "Lista de itens obrigatórios para essa exploração:\n",
        "1. Recuperação dos dados\n",
        " 1. Recuperar os dados de visualização sobre a cidade de Phoenix agrupados por dia, por mês e por ano;\n",
        " 2. Ordenar as observações de forma ascendente temporalmente (da observação mais antiga para a observação mais recente).\n",
        "2. Visualização dos dados em forma de Série Temporal:\n",
        " 1. Observar o gráfico em barras da série temporal para o ano x de forma a investigar como se comporta a distribuição das visualizações.\n",
        " 2. Observar o gráfico de linha da evolução do número de observações ao longo do tempo (anos).\n",
        "3. Construção dos conjuntos de Treinamento e Teste:\n",
        " 1. Separar 70% das observações para treinamento e 30% das observações para teste (como se trata de uma informação temporal, não podemos pegar uma amostra aleatória, sugestão: calcular o índice que corresponde a 70% das observações e considerar da primeira amostra até ele para treinamento; e do índice seguinte até o final para teste).\n",
        "4. Investigar os parâmetros para discriminar o melhor modelo:\n",
        " 1. Utilizando o pacote statsmodels, vamos testar uma família de métodos apropriados para lidar com previsão de séries temporais chamados conjuntamente de SARIMAX (Links para um site externo.), ou seja, utilize a função SARIMAX para criar um modelo;\n",
        " 2. Em seguida, chame a função fit() para ajustar o modelo;\n",
        " 3. Para medir a qualidade do modelo ajustado, acesse a propriedade AIC do resultado. O Critério de Informação de Akaike (AIC em inglês) é uma métrica \"quanto menor melhor\", dessa forma, ao comparar modelos diferentes, aquele que possuir o menor valor de AIC é o melhor.\n",
        "  4. Exemplo de qualidade do modelo de acordo com o parâmetro AIC:\n",
        "  > A qualidade do modelo estimada pelo AIC é: 1085.2222824883293.\n",
        "5. A última etapa é realizar uma previsão utilizando o melhor modelo:\n",
        "  1. Utilizando a função forecast sobre o modelo ajustado, faça uma previsão apropriada para a quantidade de dias que existem no seu conjunto de teste;\n",
        "  2. Calcule o erro médio e o desvio-padrão com relação ao seu conjunto de testes.\n",
        "    1. O erro médio foi de: 12.5% e o desvio-padrão foi de: 44.45%\n",
        "\n",
        "\n"
      ]
    },
    {
      "cell_type": "markdown",
      "metadata": {
        "id": "0ukg_JSOBh7-"
      },
      "source": [
        "### Etapa inicial\n",
        "#### P1: Recuperação dos dados\n",
        " 1. Recuperar os dados de visualização sobre a cidade de Phoenix agrupados por dia, por mês e por ano;\n",
        " 2. Ordenar as observações de forma ascendente temporalmente (da observação mais antiga para a observação mais recente)."
      ]
    },
    {
      "cell_type": "code",
      "metadata": {
        "id": "2Gosgw4Himi0",
        "outputId": "5a844650-6d1e-446c-b1df-b0e48a197e79",
        "colab": {
          "base_uri": "https://localhost:8080/",
          "height": 431
        }
      },
      "source": [
        "import pandas as pd\n",
        "import matplotlib.pyplot as plt\n",
        "import numpy as np\n",
        "\n",
        "#Ordenar as observações de forma ascendente temporalmente (da observação mais antiga para a observação mais recente).\n",
        "df_ovnis = pd.read_csv(\"df_OVNI_preparado.csv\", index_col=[0])\n",
        "\n",
        "#Cria um novo dataframe com os dados da cidade de Phoenix\n",
        "df_ovnis = df_ovnis[df_ovnis['CITY']=='Phoenix']\n",
        "\n",
        "#agrupa por data\n",
        "df_views = df_ovnis\n",
        "df_views['Views'] = df_views.groupby('SIGHT_DATE')['SIGHT_DATE'].transform('count')\n",
        "\n",
        "#Excluir as colunas cujo os dados não são necessários\n",
        "df_views = df_views.drop(columns=[\"SIGHT_MONTH\"])\n",
        "df_views = df_views.drop(columns=[\"SIGHT_DAY\"])\n",
        "df_views = df_views.drop(columns=[\"SIGHT_WEEKDAY\"])\n",
        "df_views = df_views.drop(columns=[\"SHAPE\"])\n",
        "df_views = df_views.drop(columns=[\"STATE\"])\n",
        "df_views = df_views.drop(columns=[\"CITY\"])\n",
        "df_views = df_views.drop(columns=[\"SIGHT_TIME\"])\n",
        "df_views.sort_values(by='SIGHT_DATE')"
      ],
      "execution_count": 1,
      "outputs": [
        {
          "output_type": "execute_result",
          "data": {
            "text/html": [
              "<div>\n",
              "<style scoped>\n",
              "    .dataframe tbody tr th:only-of-type {\n",
              "        vertical-align: middle;\n",
              "    }\n",
              "\n",
              "    .dataframe tbody tr th {\n",
              "        vertical-align: top;\n",
              "    }\n",
              "\n",
              "    .dataframe thead th {\n",
              "        text-align: right;\n",
              "    }\n",
              "</style>\n",
              "<table border=\"1\" class=\"dataframe\">\n",
              "  <thead>\n",
              "    <tr style=\"text-align: right;\">\n",
              "      <th></th>\n",
              "      <th>SIGHT_DATE</th>\n",
              "      <th>Views</th>\n",
              "    </tr>\n",
              "    <tr>\n",
              "      <th>Unnamed: 0</th>\n",
              "      <th></th>\n",
              "      <th></th>\n",
              "    </tr>\n",
              "  </thead>\n",
              "  <tbody>\n",
              "    <tr>\n",
              "      <th>31865</th>\n",
              "      <td>01/01/12</td>\n",
              "      <td>1</td>\n",
              "    </tr>\n",
              "    <tr>\n",
              "      <th>63340</th>\n",
              "      <td>01/01/16</td>\n",
              "      <td>1</td>\n",
              "    </tr>\n",
              "    <tr>\n",
              "      <th>21070</th>\n",
              "      <td>01/02/10</td>\n",
              "      <td>1</td>\n",
              "    </tr>\n",
              "    <tr>\n",
              "      <th>63318</th>\n",
              "      <td>01/02/16</td>\n",
              "      <td>1</td>\n",
              "    </tr>\n",
              "    <tr>\n",
              "      <th>47834</th>\n",
              "      <td>01/04/14</td>\n",
              "      <td>1</td>\n",
              "    </tr>\n",
              "    <tr>\n",
              "      <th>...</th>\n",
              "      <td>...</td>\n",
              "      <td>...</td>\n",
              "    </tr>\n",
              "    <tr>\n",
              "      <th>10199</th>\n",
              "      <td>12/27/7</td>\n",
              "      <td>1</td>\n",
              "    </tr>\n",
              "    <tr>\n",
              "      <th>38863</th>\n",
              "      <td>12/28/12</td>\n",
              "      <td>1</td>\n",
              "    </tr>\n",
              "    <tr>\n",
              "      <th>46610</th>\n",
              "      <td>12/30/13</td>\n",
              "      <td>1</td>\n",
              "    </tr>\n",
              "    <tr>\n",
              "      <th>68324</th>\n",
              "      <td>12/31/16</td>\n",
              "      <td>2</td>\n",
              "    </tr>\n",
              "    <tr>\n",
              "      <th>68296</th>\n",
              "      <td>12/31/16</td>\n",
              "      <td>2</td>\n",
              "    </tr>\n",
              "  </tbody>\n",
              "</table>\n",
              "<p>336 rows × 2 columns</p>\n",
              "</div>"
            ],
            "text/plain": [
              "           SIGHT_DATE  Views\n",
              "Unnamed: 0                  \n",
              "31865        01/01/12      1\n",
              "63340        01/01/16      1\n",
              "21070        01/02/10      1\n",
              "63318        01/02/16      1\n",
              "47834        01/04/14      1\n",
              "...               ...    ...\n",
              "10199         12/27/7      1\n",
              "38863        12/28/12      1\n",
              "46610        12/30/13      1\n",
              "68324        12/31/16      2\n",
              "68296        12/31/16      2\n",
              "\n",
              "[336 rows x 2 columns]"
            ]
          },
          "metadata": {
            "tags": []
          },
          "execution_count": 1
        }
      ]
    },
    {
      "cell_type": "markdown",
      "metadata": {
        "id": "oetwjuz4uJ9C"
      },
      "source": [
        "### P2: Visualização dos dados em forma de Série Temporal:\n"
      ]
    },
    {
      "cell_type": "markdown",
      "metadata": {
        "id": "aiew3CSaE5aT"
      },
      "source": [
        "#### 1. Observar o gráfico em barras da série temporal para o ano x de forma a investigar como se comporta a distribuição das visualizações.\n"
      ]
    },
    {
      "cell_type": "code",
      "metadata": {
        "id": "lkMkNAUVMHXq",
        "outputId": "eb175fbd-dc20-4b2f-aca9-fd954635d49a",
        "colab": {
          "base_uri": "https://localhost:8080/",
          "height": 401
        }
      },
      "source": [
        "#Atribui o daframe a uma outro para manipulção mais livre\n",
        "df_mes = df_ovnis\n",
        "#Define o ano que quer ser visto no grafico\n",
        "ano = 2017\n",
        "\n",
        "#Transforma a coluna 'Sight_Date' em formato de data para separar o ano\n",
        "df_mes['SIGHT_DATE'] = pd.to_datetime(df_mes['SIGHT_DATE'])\n",
        "#Separa o ano em uma coluna propria\n",
        "df_mes['SIGHT_YEAR'] = df_mes['SIGHT_DATE'].dt.strftime('%Y')\n",
        "#transforma o ano em string\n",
        "df_mes = df_mes[df_ovnis['SIGHT_YEAR'] == str(ano)]\n",
        "#Conta quantas visualizacoes cada mes tem\n",
        "df_mes[\"Views\"] = df_mes.groupby('SIGHT_MONTH')['SIGHT_MONTH'].transform('count')\n",
        "\n",
        "#cria um vetor com todos os meses do ano\n",
        "mes = [1, 2, 3, 4, 5, 6, 7, 8, 9, 10, 11, 12]\n",
        "#cria um vetor vazio que tera as views de cada mes\n",
        "views = []\n",
        "\n",
        "#no primeiro for ele vai rodar todos os 12 meses\n",
        "for j in mes:\n",
        "  #flag para nao duplicar o numero de views de meses repetidos\n",
        "  flag = 0\n",
        "  #segundo for que ira interar linha por linha do dataframe\n",
        "  for i in df_mes.itertuples():\n",
        "    if(str(df_mes.SIGHT_MONTH[i.Index]) == str(j) and flag == 0):\n",
        "      #atribui o numero do mes correspondente (representado pelo j)\n",
        "      views.append(df_mes.Views[i.Index])\n",
        "      flag = 1\n",
        "\n",
        "#preenche os meses cujo n tiveram observacoes registradas com o valor zero\n",
        "if(len(views) < 12):\n",
        "  meses_sem_views = 12 - len(views)\n",
        "  for i in range(meses_sem_views):\n",
        "    views.append(0)\n",
        "\n",
        "#----PLOTANDO O GRAFICO-----\n",
        "\n",
        "#cria distancia entre as barras\n",
        "x1 =  np.arange(len(views))\n",
        "\n",
        "# Plota as barras\n",
        "plt.bar(x1, views, width=0.5, label = 'Produto A')\n",
        "\n",
        "# coloca o nome dos meses como label do eixo x\n",
        "plt.xticks([x for x in range(len(views))], mes)\n",
        "\n",
        "plt.title(\"Ano de \"+ str(ano))\n",
        "plt.xlabel('Month')\n",
        "plt.ylabel('Views')\n",
        "plt.show()"
      ],
      "execution_count": 24,
      "outputs": [
        {
          "output_type": "stream",
          "text": [
            "/usr/local/lib/python3.6/dist-packages/ipykernel_launcher.py:13: SettingWithCopyWarning: \n",
            "A value is trying to be set on a copy of a slice from a DataFrame.\n",
            "Try using .loc[row_indexer,col_indexer] = value instead\n",
            "\n",
            "See the caveats in the documentation: https://pandas.pydata.org/pandas-docs/stable/user_guide/indexing.html#returning-a-view-versus-a-copy\n",
            "  del sys.path[0]\n"
          ],
          "name": "stderr"
        },
        {
          "output_type": "display_data",
          "data": {
            "image/png": "[encoded data removed]",
            "text/plain": [
              "<Figure size 432x288 with 1 Axes>"
            ]
          },
          "metadata": {
            "tags": [],
            "needs_background": "light"
          }
        }
      ]
    },
    {
      "cell_type": "markdown",
      "metadata": {
        "id": "R9sO_NyguMyy"
      },
      "source": [
        "#### 2. Observar o gráfico de linha da evolução do número de observações ao longo do tempo (anos)."
      ]
    },
    {
      "cell_type": "code",
      "metadata": {
        "id": "J_kCmUa8Y-eE",
        "outputId": "ab37db9d-6e98-4e6c-ccd9-baab0d49b9ea",
        "colab": {
          "base_uri": "https://localhost:8080/",
          "height": 310
        }
      },
      "source": [
        "#Atribui o daframe a uma outro para manipulção mais livre#Atribui o daframe a uma outro para manipulção mais livre\n",
        "df_anos = df_ovnis\n",
        "\n",
        "#Array vazio que tera os anos de 1997 a 2017\n",
        "anos = []\n",
        "#Array vazio que tera as views correspondennte ao periodo pedido\n",
        "views = []\n",
        "#Anos que aparecerao no grafico\n",
        "anos_grafico = []\n",
        "\n",
        "#Transforma a coluna 'Sight_Date' em formato de data para separar o ano\n",
        "df_anos['SIGHT_DATE'] = pd.to_datetime(df_anos['SIGHT_DATE'])\n",
        "#Separa o ano em uma coluna propria\n",
        "df_anos['SIGHT_YEAR'] = df_anos['SIGHT_DATE'].dt.strftime('%Y')\n",
        "#Conta quantas visualizacoes cada ano tem\n",
        "df_anos[\"Views\"] = df_anos.groupby('SIGHT_YEAR')['SIGHT_YEAR'].transform('count')\n",
        "\n",
        "#intera os anos de 1997 a 2017 no array 'anos'\n",
        "for i in range(1997, 2018):\n",
        "  anos.append(i)\n",
        "\n",
        "#no primeiro for ele vai rodar todos os os anos que o array rececbeu\n",
        "for j in anos:\n",
        "  #flag para nao duplicar o numero de views de anos repetidos\n",
        "  flag = 0\n",
        "  #segundo for que ira interar linha por linha do dataframe\n",
        "  for i in df_anos.itertuples():\n",
        "    if(df_anos.SIGHT_YEAR[i.Index] == str(j) and flag == 0):\n",
        "      #atribui o ano correspondente a view adicionada\n",
        "      anos_grafico.append(str(j))\n",
        "      #atribui o numero do ano correspondente (representado pelo j)\n",
        "      views.append(df_anos.Views[i.Index])\n",
        "      flag = 1\n",
        "\n",
        "#Atribui o 'anos_grafico' como anos do eixo x e as views no eixo y\n",
        "plt.plot(anos_grafico, views)\n",
        "plt.xlabel('Year')\n",
        "plt.ylabel('Views')\n",
        "plt.title(\"Evolução de Obervações da Cidade de Phoenix ao Longo dos Anos de 1997 a 2017\")\n",
        "plt.xticks(rotation=45)\n",
        "\n",
        "plt.show()"
      ],
      "execution_count": 4,
      "outputs": [
        {
          "output_type": "display_data",
          "data": {
            "image/png": "[encoded data removed]",
            "text/plain": [
              "<Figure size 432x288 with 1 Axes>"
            ]
          },
          "metadata": {
            "tags": [],
            "needs_background": "light"
          }
        }
      ]
    },
    {
      "cell_type": "markdown",
      "metadata": {
        "id": "sQxuBSbQDgxa"
      },
      "source": [
        "###P3. Construção dos conjuntos de Treinamento e Teste:\n",
        " #### 1. Separar 70% das observações para treinamento e 30% das observações para teste (como se trata de uma informação temporal, não podemos pegar uma amostra aleatória, sugestão: calcular o índice que corresponde a 70% das observações e considerar da primeira amostra até ele para treinamento; e do índice seguinte até o final para teste)."
      ]
    },
    {
      "cell_type": "code",
      "metadata": {
        "id": "S2zTECC14PHR",
        "outputId": "114756e6-b93e-4dd8-c619-c2a93bb36cf0",
        "colab": {
          "base_uri": "https://localhost:8080/",
          "height": 0
        }
      },
      "source": [
        "# Transformamos o 'Sight_date' de df_views em tipo Date. \n",
        "df_views['SIGHT_DATE'] = pd.to_datetime(df_views['SIGHT_DATE'])\n",
        "# Definimos o 'Sight_Date' como o index.\n",
        "df_views.set_index('SIGHT_DATE', inplace = True)\n",
        "df_views"
      ],
      "execution_count": 5,
      "outputs": [
        {
          "output_type": "execute_result",
          "data": {
            "text/html": [
              "<div>\n",
              "<style scoped>\n",
              "    .dataframe tbody tr th:only-of-type {\n",
              "        vertical-align: middle;\n",
              "    }\n",
              "\n",
              "    .dataframe tbody tr th {\n",
              "        vertical-align: top;\n",
              "    }\n",
              "\n",
              "    .dataframe thead th {\n",
              "        text-align: right;\n",
              "    }\n",
              "</style>\n",
              "<table border=\"1\" class=\"dataframe\">\n",
              "  <thead>\n",
              "    <tr style=\"text-align: right;\">\n",
              "      <th></th>\n",
              "      <th>Views</th>\n",
              "    </tr>\n",
              "    <tr>\n",
              "      <th>SIGHT_DATE</th>\n",
              "      <th></th>\n",
              "    </tr>\n",
              "  </thead>\n",
              "  <tbody>\n",
              "    <tr>\n",
              "      <th>1999-06-12</th>\n",
              "      <td>1</td>\n",
              "    </tr>\n",
              "    <tr>\n",
              "      <th>2001-11-12</th>\n",
              "      <td>1</td>\n",
              "    </tr>\n",
              "    <tr>\n",
              "      <th>2003-05-31</th>\n",
              "      <td>1</td>\n",
              "    </tr>\n",
              "    <tr>\n",
              "      <th>2005-02-21</th>\n",
              "      <td>1</td>\n",
              "    </tr>\n",
              "    <tr>\n",
              "      <th>2005-03-20</th>\n",
              "      <td>1</td>\n",
              "    </tr>\n",
              "    <tr>\n",
              "      <th>...</th>\n",
              "      <td>...</td>\n",
              "    </tr>\n",
              "    <tr>\n",
              "      <th>2017-07-06</th>\n",
              "      <td>1</td>\n",
              "    </tr>\n",
              "    <tr>\n",
              "      <th>2017-08-27</th>\n",
              "      <td>1</td>\n",
              "    </tr>\n",
              "    <tr>\n",
              "      <th>2017-08-14</th>\n",
              "      <td>1</td>\n",
              "    </tr>\n",
              "    <tr>\n",
              "      <th>2017-08-04</th>\n",
              "      <td>1</td>\n",
              "    </tr>\n",
              "    <tr>\n",
              "      <th>2017-09-24</th>\n",
              "      <td>1</td>\n",
              "    </tr>\n",
              "  </tbody>\n",
              "</table>\n",
              "<p>336 rows × 1 columns</p>\n",
              "</div>"
            ],
            "text/plain": [
              "            Views\n",
              "SIGHT_DATE       \n",
              "1999-06-12      1\n",
              "2001-11-12      1\n",
              "2003-05-31      1\n",
              "2005-02-21      1\n",
              "2005-03-20      1\n",
              "...           ...\n",
              "2017-07-06      1\n",
              "2017-08-27      1\n",
              "2017-08-14      1\n",
              "2017-08-04      1\n",
              "2017-09-24      1\n",
              "\n",
              "[336 rows x 1 columns]"
            ]
          },
          "metadata": {
            "tags": []
          },
          "execution_count": 5
        }
      ]
    },
    {
      "cell_type": "code",
      "metadata": {
        "id": "k9XP9xh64tOS",
        "outputId": "64696a68-564e-48ed-c780-f9a4e91f11e7",
        "colab": {
          "base_uri": "https://localhost:8080/",
          "height": 0
        }
      },
      "source": [
        "df_views.head()"
      ],
      "execution_count": 6,
      "outputs": [
        {
          "output_type": "execute_result",
          "data": {
            "text/html": [
              "<div>\n",
              "<style scoped>\n",
              "    .dataframe tbody tr th:only-of-type {\n",
              "        vertical-align: middle;\n",
              "    }\n",
              "\n",
              "    .dataframe tbody tr th {\n",
              "        vertical-align: top;\n",
              "    }\n",
              "\n",
              "    .dataframe thead th {\n",
              "        text-align: right;\n",
              "    }\n",
              "</style>\n",
              "<table border=\"1\" class=\"dataframe\">\n",
              "  <thead>\n",
              "    <tr style=\"text-align: right;\">\n",
              "      <th></th>\n",
              "      <th>Views</th>\n",
              "    </tr>\n",
              "    <tr>\n",
              "      <th>SIGHT_DATE</th>\n",
              "      <th></th>\n",
              "    </tr>\n",
              "  </thead>\n",
              "  <tbody>\n",
              "    <tr>\n",
              "      <th>1999-06-12</th>\n",
              "      <td>1</td>\n",
              "    </tr>\n",
              "    <tr>\n",
              "      <th>2001-11-12</th>\n",
              "      <td>1</td>\n",
              "    </tr>\n",
              "    <tr>\n",
              "      <th>2003-05-31</th>\n",
              "      <td>1</td>\n",
              "    </tr>\n",
              "    <tr>\n",
              "      <th>2005-02-21</th>\n",
              "      <td>1</td>\n",
              "    </tr>\n",
              "    <tr>\n",
              "      <th>2005-03-20</th>\n",
              "      <td>1</td>\n",
              "    </tr>\n",
              "  </tbody>\n",
              "</table>\n",
              "</div>"
            ],
            "text/plain": [
              "            Views\n",
              "SIGHT_DATE       \n",
              "1999-06-12      1\n",
              "2001-11-12      1\n",
              "2003-05-31      1\n",
              "2005-02-21      1\n",
              "2005-03-20      1"
            ]
          },
          "metadata": {
            "tags": []
          },
          "execution_count": 6
        }
      ]
    },
    {
      "cell_type": "code",
      "metadata": {
        "id": "HOCrw5l97joW"
      },
      "source": [
        "# Isso separa os conjunto df_views no conjunto de treinamento (df_train) e no conjunto de teste (df_test).\n",
        "# O conjunto df_train possui 70% dos dados do conjunto df_views, enquanto o df_test possui 30% dos dados.\n",
        "df_train, df_test = df_views.iloc[:235, :], df_views.iloc[235:, :]"
      ],
      "execution_count": 7,
      "outputs": []
    },
    {
      "cell_type": "code",
      "metadata": {
        "id": "EiS9Bvt676zq",
        "outputId": "4cf14ca1-3da1-4365-ad61-ed65d7c25045",
        "colab": {
          "base_uri": "https://localhost:8080/"
        }
      },
      "source": [
        "df_train.shape"
      ],
      "execution_count": 8,
      "outputs": [
        {
          "output_type": "execute_result",
          "data": {
            "text/plain": [
              "(235, 1)"
            ]
          },
          "metadata": {
            "tags": []
          },
          "execution_count": 8
        }
      ]
    },
    {
      "cell_type": "code",
      "metadata": {
        "id": "B2GMJgmhARzt",
        "outputId": "8525f8f1-ed08-4d36-eb48-cff3d5e76288",
        "colab": {
          "base_uri": "https://localhost:8080/",
          "height": 0
        }
      },
      "source": [
        "df_train.head()"
      ],
      "execution_count": 9,
      "outputs": [
        {
          "output_type": "execute_result",
          "data": {
            "text/html": [
              "<div>\n",
              "<style scoped>\n",
              "    .dataframe tbody tr th:only-of-type {\n",
              "        vertical-align: middle;\n",
              "    }\n",
              "\n",
              "    .dataframe tbody tr th {\n",
              "        vertical-align: top;\n",
              "    }\n",
              "\n",
              "    .dataframe thead th {\n",
              "        text-align: right;\n",
              "    }\n",
              "</style>\n",
              "<table border=\"1\" class=\"dataframe\">\n",
              "  <thead>\n",
              "    <tr style=\"text-align: right;\">\n",
              "      <th></th>\n",
              "      <th>Views</th>\n",
              "    </tr>\n",
              "    <tr>\n",
              "      <th>SIGHT_DATE</th>\n",
              "      <th></th>\n",
              "    </tr>\n",
              "  </thead>\n",
              "  <tbody>\n",
              "    <tr>\n",
              "      <th>1999-06-12</th>\n",
              "      <td>1</td>\n",
              "    </tr>\n",
              "    <tr>\n",
              "      <th>2001-11-12</th>\n",
              "      <td>1</td>\n",
              "    </tr>\n",
              "    <tr>\n",
              "      <th>2003-05-31</th>\n",
              "      <td>1</td>\n",
              "    </tr>\n",
              "    <tr>\n",
              "      <th>2005-02-21</th>\n",
              "      <td>1</td>\n",
              "    </tr>\n",
              "    <tr>\n",
              "      <th>2005-03-20</th>\n",
              "      <td>1</td>\n",
              "    </tr>\n",
              "  </tbody>\n",
              "</table>\n",
              "</div>"
            ],
            "text/plain": [
              "            Views\n",
              "SIGHT_DATE       \n",
              "1999-06-12      1\n",
              "2001-11-12      1\n",
              "2003-05-31      1\n",
              "2005-02-21      1\n",
              "2005-03-20      1"
            ]
          },
          "metadata": {
            "tags": []
          },
          "execution_count": 9
        }
      ]
    },
    {
      "cell_type": "code",
      "metadata": {
        "id": "3lQ5dSbr8c-a",
        "outputId": "d680ef45-9a00-4bb4-a125-28ba148c8738",
        "colab": {
          "base_uri": "https://localhost:8080/"
        }
      },
      "source": [
        "df_test.shape"
      ],
      "execution_count": 10,
      "outputs": [
        {
          "output_type": "execute_result",
          "data": {
            "text/plain": [
              "(101, 1)"
            ]
          },
          "metadata": {
            "tags": []
          },
          "execution_count": 10
        }
      ]
    },
    {
      "cell_type": "code",
      "metadata": {
        "id": "ZBZjKfM8EeLq",
        "outputId": "15654095-c0fa-4e11-f2ab-dee8e07ecfed",
        "colab": {
          "base_uri": "https://localhost:8080/",
          "height": 0
        }
      },
      "source": [
        "df_test.head()"
      ],
      "execution_count": 11,
      "outputs": [
        {
          "output_type": "execute_result",
          "data": {
            "text/html": [
              "<div>\n",
              "<style scoped>\n",
              "    .dataframe tbody tr th:only-of-type {\n",
              "        vertical-align: middle;\n",
              "    }\n",
              "\n",
              "    .dataframe tbody tr th {\n",
              "        vertical-align: top;\n",
              "    }\n",
              "\n",
              "    .dataframe thead th {\n",
              "        text-align: right;\n",
              "    }\n",
              "</style>\n",
              "<table border=\"1\" class=\"dataframe\">\n",
              "  <thead>\n",
              "    <tr style=\"text-align: right;\">\n",
              "      <th></th>\n",
              "      <th>Views</th>\n",
              "    </tr>\n",
              "    <tr>\n",
              "      <th>SIGHT_DATE</th>\n",
              "      <th></th>\n",
              "    </tr>\n",
              "  </thead>\n",
              "  <tbody>\n",
              "    <tr>\n",
              "      <th>2015-02-11</th>\n",
              "      <td>2</td>\n",
              "    </tr>\n",
              "    <tr>\n",
              "      <th>2015-03-20</th>\n",
              "      <td>1</td>\n",
              "    </tr>\n",
              "    <tr>\n",
              "      <th>2015-03-14</th>\n",
              "      <td>1</td>\n",
              "    </tr>\n",
              "    <tr>\n",
              "      <th>2015-03-13</th>\n",
              "      <td>1</td>\n",
              "    </tr>\n",
              "    <tr>\n",
              "      <th>2015-03-06</th>\n",
              "      <td>2</td>\n",
              "    </tr>\n",
              "  </tbody>\n",
              "</table>\n",
              "</div>"
            ],
            "text/plain": [
              "            Views\n",
              "SIGHT_DATE       \n",
              "2015-02-11      2\n",
              "2015-03-20      1\n",
              "2015-03-14      1\n",
              "2015-03-13      1\n",
              "2015-03-06      2"
            ]
          },
          "metadata": {
            "tags": []
          },
          "execution_count": 11
        }
      ]
    },
    {
      "cell_type": "markdown",
      "metadata": {
        "id": "mrmGdfRvD8qx"
      },
      "source": [
        "###P4. Investigar os parâmetros para discriminar o melhor modelo:\n",
        "\n"
      ]
    },
    {
      "cell_type": "markdown",
      "metadata": {
        "id": "D8eSbKpBExMj"
      },
      "source": [
        " #### 1. Utilizando o pacote statsmodels, vamos testar uma família de métodos apropriados para lidar com previsão de séries temporais chamados conjuntamente de SARIMAX (Links para um site externo.), ou seja, utilize a função SARIMAX para criar um modelo;\n",
        " "
      ]
    },
    {
      "cell_type": "code",
      "metadata": {
        "id": "nEolCgEXv0JQ",
        "outputId": "b86d671a-53d3-40d2-af40-da30aedf7d01",
        "colab": {
          "base_uri": "https://localhost:8080/"
        }
      },
      "source": [
        "import numpy as np\n",
        "from sklearn.model_selection import train_test_split\n",
        "#df_ovnis_train = pd.read_csv(\"df_OVNI_preparado.csv\")\n",
        "x_train, x_test, y_train, y_test = train_test_split(df_views.drop('Views',axis=1), df_views['Views'], test_size=0.3, random_state=0, shuffle=False)\n",
        "\n",
        "x_train.shape, y_train.shape\n",
        "\n",
        "#x_test.shape, y_test.shape"
      ],
      "execution_count": 12,
      "outputs": [
        {
          "output_type": "execute_result",
          "data": {
            "text/plain": [
              "((235, 0), (235,))"
            ]
          },
          "metadata": {
            "tags": []
          },
          "execution_count": 12
        }
      ]
    },
    {
      "cell_type": "code",
      "metadata": {
        "id": "yp3ic6w1Jq8T",
        "outputId": "c1c038be-585b-4cf5-d34d-80add24044ec",
        "colab": {
          "base_uri": "https://localhost:8080/"
        }
      },
      "source": [
        "x_test.shape, y_test.shape"
      ],
      "execution_count": 13,
      "outputs": [
        {
          "output_type": "execute_result",
          "data": {
            "text/plain": [
              "((101, 0), (101,))"
            ]
          },
          "metadata": {
            "tags": []
          },
          "execution_count": 13
        }
      ]
    },
    {
      "cell_type": "code",
      "metadata": {
        "id": "GcZ8LdTAxv1d",
        "outputId": "469c048b-9282-4860-b4a0-0dc7f4741c91",
        "colab": {
          "base_uri": "https://localhost:8080/"
        }
      },
      "source": [
        "from statsmodels.tsa.statespace.sarimax import SARIMAX\n",
        "% matplotlib inline\n",
        "sarimax_model = SARIMAX(df_train, order=(1,0,0))\n",
        "#sarimax_model = SARIMAX(df_ovnis['Views'], freq='MS', order=(1,1,1), seasonal_order=(1,1,1,12),exog=df_ovnis['Views']).fit(x_train, y_train)\n",
        "#sarimax_model = sm.tsa.statespace.SARIMAX(df_train, order=(1,0,0))\n",
        "#res = sarimax_model(disp=False)\n",
        "#res.summary()"
      ],
      "execution_count": 14,
      "outputs": [
        {
          "output_type": "stream",
          "text": [
            "/usr/local/lib/python3.6/dist-packages/statsmodels/tools/_testing.py:19: FutureWarning: pandas.util.testing is deprecated. Use the functions in the public API at pandas.testing instead.\n",
            "  import pandas.util.testing as tm\n",
            "/usr/local/lib/python3.6/dist-packages/statsmodels/tsa/base/tsa_model.py:219: ValueWarning: A date index has been provided, but it has no associated frequency information and so will be ignored when e.g. forecasting.\n",
            "  ' ignored when e.g. forecasting.', ValueWarning)\n"
          ],
          "name": "stderr"
        }
      ]
    },
    {
      "cell_type": "markdown",
      "metadata": {
        "id": "sg1DklBfErsr"
      },
      "source": [
        "#### 2. Em seguida, chame a função fit() para ajustar o modelo;\n",
        "#### 3. Para medir a qualidade do modelo ajustado, acesse a propriedade AIC do resultado. O Critério de Informação de Akaike (AIC em inglês) é uma métrica \"quanto menor melhor\", dessa forma, ao comparar modelos diferentes, aquele que possuir o menor valor de AIC é o melhor.\n",
        "#### 4. Exemplo de qualidade do modelo de acordo com o parâmetro AIC:\n",
        "  > A qualidade do modelo estimada pelo AIC é: 1085.2222824883293."
      ]
    },
    {
      "cell_type": "code",
      "metadata": {
        "id": "FKwixH3tA_vg",
        "outputId": "4b21a6e7-9d14-4a6d-fe87-42ee7ef79c46",
        "colab": {
          "base_uri": "https://localhost:8080/",
          "height": 386
        }
      },
      "source": [
        "res = sarimax_model.fit(disp=False)\n",
        "res.summary()"
      ],
      "execution_count": 15,
      "outputs": [
        {
          "output_type": "execute_result",
          "data": {
            "text/html": [
              "<table class=\"simpletable\">\n",
              "<caption>Statespace Model Results</caption>\n",
              "<tr>\n",
              "  <th>Dep. Variable:</th>         <td>Views</td>      <th>  No. Observations:  </th>    <td>235</td>  \n",
              "</tr>\n",
              "<tr>\n",
              "  <th>Model:</th>           <td>SARIMAX(1, 0, 0)</td> <th>  Log Likelihood     </th> <td>-216.059</td>\n",
              "</tr>\n",
              "<tr>\n",
              "  <th>Date:</th>            <td>Fri, 30 Oct 2020</td> <th>  AIC                </th>  <td>436.118</td>\n",
              "</tr>\n",
              "<tr>\n",
              "  <th>Time:</th>                <td>18:40:48</td>     <th>  BIC                </th>  <td>443.038</td>\n",
              "</tr>\n",
              "<tr>\n",
              "  <th>Sample:</th>                  <td>0</td>        <th>  HQIC               </th>  <td>438.908</td>\n",
              "</tr>\n",
              "<tr>\n",
              "  <th></th>                      <td> - 235</td>      <th>                     </th>     <td> </td>   \n",
              "</tr>\n",
              "<tr>\n",
              "  <th>Covariance Type:</th>        <td>opg</td>       <th>                     </th>     <td> </td>   \n",
              "</tr>\n",
              "</table>\n",
              "<table class=\"simpletable\">\n",
              "<tr>\n",
              "     <td></td>       <th>coef</th>     <th>std err</th>      <th>z</th>      <th>P>|z|</th>  <th>[0.025</th>    <th>0.975]</th>  \n",
              "</tr>\n",
              "<tr>\n",
              "  <th>ar.L1</th>  <td>    0.9206</td> <td>    0.014</td> <td>   67.830</td> <td> 0.000</td> <td>    0.894</td> <td>    0.947</td>\n",
              "</tr>\n",
              "<tr>\n",
              "  <th>sigma2</th> <td>    0.3653</td> <td>    0.009</td> <td>   40.883</td> <td> 0.000</td> <td>    0.348</td> <td>    0.383</td>\n",
              "</tr>\n",
              "</table>\n",
              "<table class=\"simpletable\">\n",
              "<tr>\n",
              "  <th>Ljung-Box (Q):</th>          <td>66.26</td> <th>  Jarque-Bera (JB):  </th> <td>11718.31</td>\n",
              "</tr>\n",
              "<tr>\n",
              "  <th>Prob(Q):</th>                <td>0.01</td>  <th>  Prob(JB):          </th>   <td>0.00</td>  \n",
              "</tr>\n",
              "<tr>\n",
              "  <th>Heteroskedasticity (H):</th> <td>0.25</td>  <th>  Skew:              </th>   <td>0.52</td>  \n",
              "</tr>\n",
              "<tr>\n",
              "  <th>Prob(H) (two-sided):</th>    <td>0.00</td>  <th>  Kurtosis:          </th>   <td>37.58</td> \n",
              "</tr>\n",
              "</table><br/><br/>Warnings:<br/>[1] Covariance matrix calculated using the outer product of gradients (complex-step)."
            ],
            "text/plain": [
              "<class 'statsmodels.iolib.summary.Summary'>\n",
              "\"\"\"\n",
              "                           Statespace Model Results                           \n",
              "==============================================================================\n",
              "Dep. Variable:                  Views   No. Observations:                  235\n",
              "Model:               SARIMAX(1, 0, 0)   Log Likelihood                -216.059\n",
              "Date:                Fri, 30 Oct 2020   AIC                            436.118\n",
              "Time:                        18:40:48   BIC                            443.038\n",
              "Sample:                             0   HQIC                           438.908\n",
              "                                - 235                                         \n",
              "Covariance Type:                  opg                                         \n",
              "==============================================================================\n",
              "                 coef    std err          z      P>|z|      [0.025      0.975]\n",
              "------------------------------------------------------------------------------\n",
              "ar.L1          0.9206      0.014     67.830      0.000       0.894       0.947\n",
              "sigma2         0.3653      0.009     40.883      0.000       0.348       0.383\n",
              "===================================================================================\n",
              "Ljung-Box (Q):                       66.26   Jarque-Bera (JB):             11718.31\n",
              "Prob(Q):                              0.01   Prob(JB):                         0.00\n",
              "Heteroskedasticity (H):               0.25   Skew:                             0.52\n",
              "Prob(H) (two-sided):                  0.00   Kurtosis:                        37.58\n",
              "===================================================================================\n",
              "\n",
              "Warnings:\n",
              "[1] Covariance matrix calculated using the outer product of gradients (complex-step).\n",
              "\"\"\""
            ]
          },
          "metadata": {
            "tags": []
          },
          "execution_count": 15
        }
      ]
    },
    {
      "cell_type": "markdown",
      "metadata": {
        "id": "iPUydUECFKD8"
      },
      "source": [
        "###P5. A última etapa é realizar uma previsão utilizando o melhor modelo:\n",
        "  #### 1. Utilizando a função forecast sobre o modelo ajustado, faça uma previsão apropriada para a quantidade de dias que existem no seu conjunto de teste;\n",
        "  "
      ]
    },
    {
      "cell_type": "code",
      "metadata": {
        "id": "DL-9K5z4BgHD",
        "outputId": "8bb7325a-b0d8-4826-b6aa-d6e73cace6c6",
        "colab": {
          "base_uri": "https://localhost:8080/"
        }
      },
      "source": [
        "df_forecast = res.forecast(101)"
      ],
      "execution_count": 16,
      "outputs": [
        {
          "output_type": "stream",
          "text": [
            "/usr/local/lib/python3.6/dist-packages/statsmodels/tsa/base/tsa_model.py:576: ValueWarning: No supported index is available. Prediction results will be given with an integer index beginning at `start`.\n",
            "  ValueWarning)\n"
          ],
          "name": "stderr"
        }
      ]
    },
    {
      "cell_type": "code",
      "metadata": {
        "id": "-OevgDyvI7t0",
        "outputId": "b11cd68d-1ba3-4e16-d636-fef23ca1f277",
        "colab": {
          "base_uri": "https://localhost:8080/"
        }
      },
      "source": [
        "df_forecast"
      ],
      "execution_count": 17,
      "outputs": [
        {
          "output_type": "execute_result",
          "data": {
            "text/plain": [
              "235    1.841266\n",
              "236    1.695130\n",
              "237    1.560593\n",
              "238    1.436734\n",
              "239    1.322704\n",
              "         ...   \n",
              "331    0.000657\n",
              "332    0.000605\n",
              "333    0.000557\n",
              "334    0.000512\n",
              "335    0.000472\n",
              "Length: 101, dtype: float64"
            ]
          },
          "metadata": {
            "tags": []
          },
          "execution_count": 17
        }
      ]
    },
    {
      "cell_type": "code",
      "metadata": {
        "id": "lBaj4ZE7Jumz",
        "outputId": "2001d8b3-08b4-4a1c-ebee-c21351659681",
        "colab": {
          "base_uri": "https://localhost:8080/"
        }
      },
      "source": [
        "df_forecast = pd.DataFrame(res.forecast(101), columns=['Views'])"
      ],
      "execution_count": 18,
      "outputs": [
        {
          "output_type": "stream",
          "text": [
            "/usr/local/lib/python3.6/dist-packages/statsmodels/tsa/base/tsa_model.py:576: ValueWarning: No supported index is available. Prediction results will be given with an integer index beginning at `start`.\n",
            "  ValueWarning)\n"
          ],
          "name": "stderr"
        }
      ]
    },
    {
      "cell_type": "code",
      "metadata": {
        "id": "WEm1bZ7EKtBB",
        "outputId": "138d24c9-6513-4060-e670-c6a7e55d41d6",
        "colab": {
          "base_uri": "https://localhost:8080/",
          "height": 415
        }
      },
      "source": [
        "df_forecast"
      ],
      "execution_count": 19,
      "outputs": [
        {
          "output_type": "execute_result",
          "data": {
            "text/html": [
              "<div>\n",
              "<style scoped>\n",
              "    .dataframe tbody tr th:only-of-type {\n",
              "        vertical-align: middle;\n",
              "    }\n",
              "\n",
              "    .dataframe tbody tr th {\n",
              "        vertical-align: top;\n",
              "    }\n",
              "\n",
              "    .dataframe thead th {\n",
              "        text-align: right;\n",
              "    }\n",
              "</style>\n",
              "<table border=\"1\" class=\"dataframe\">\n",
              "  <thead>\n",
              "    <tr style=\"text-align: right;\">\n",
              "      <th></th>\n",
              "      <th>Views</th>\n",
              "    </tr>\n",
              "  </thead>\n",
              "  <tbody>\n",
              "    <tr>\n",
              "      <th>235</th>\n",
              "      <td>1.841266</td>\n",
              "    </tr>\n",
              "    <tr>\n",
              "      <th>236</th>\n",
              "      <td>1.695130</td>\n",
              "    </tr>\n",
              "    <tr>\n",
              "      <th>237</th>\n",
              "      <td>1.560593</td>\n",
              "    </tr>\n",
              "    <tr>\n",
              "      <th>238</th>\n",
              "      <td>1.436734</td>\n",
              "    </tr>\n",
              "    <tr>\n",
              "      <th>239</th>\n",
              "      <td>1.322704</td>\n",
              "    </tr>\n",
              "    <tr>\n",
              "      <th>...</th>\n",
              "      <td>...</td>\n",
              "    </tr>\n",
              "    <tr>\n",
              "      <th>331</th>\n",
              "      <td>0.000657</td>\n",
              "    </tr>\n",
              "    <tr>\n",
              "      <th>332</th>\n",
              "      <td>0.000605</td>\n",
              "    </tr>\n",
              "    <tr>\n",
              "      <th>333</th>\n",
              "      <td>0.000557</td>\n",
              "    </tr>\n",
              "    <tr>\n",
              "      <th>334</th>\n",
              "      <td>0.000512</td>\n",
              "    </tr>\n",
              "    <tr>\n",
              "      <th>335</th>\n",
              "      <td>0.000472</td>\n",
              "    </tr>\n",
              "  </tbody>\n",
              "</table>\n",
              "<p>101 rows × 1 columns</p>\n",
              "</div>"
            ],
            "text/plain": [
              "        Views\n",
              "235  1.841266\n",
              "236  1.695130\n",
              "237  1.560593\n",
              "238  1.436734\n",
              "239  1.322704\n",
              "..        ...\n",
              "331  0.000657\n",
              "332  0.000605\n",
              "333  0.000557\n",
              "334  0.000512\n",
              "335  0.000472\n",
              "\n",
              "[101 rows x 1 columns]"
            ]
          },
          "metadata": {
            "tags": []
          },
          "execution_count": 19
        }
      ]
    },
    {
      "cell_type": "code",
      "metadata": {
        "id": "jKHqJ72LLoUI",
        "outputId": "1fe1bbfd-1526-460a-85ef-33e2963874b8",
        "colab": {
          "base_uri": "https://localhost:8080/",
          "height": 446
        }
      },
      "source": [
        "df_test"
      ],
      "execution_count": 20,
      "outputs": [
        {
          "output_type": "execute_result",
          "data": {
            "text/html": [
              "<div>\n",
              "<style scoped>\n",
              "    .dataframe tbody tr th:only-of-type {\n",
              "        vertical-align: middle;\n",
              "    }\n",
              "\n",
              "    .dataframe tbody tr th {\n",
              "        vertical-align: top;\n",
              "    }\n",
              "\n",
              "    .dataframe thead th {\n",
              "        text-align: right;\n",
              "    }\n",
              "</style>\n",
              "<table border=\"1\" class=\"dataframe\">\n",
              "  <thead>\n",
              "    <tr style=\"text-align: right;\">\n",
              "      <th></th>\n",
              "      <th>Views</th>\n",
              "    </tr>\n",
              "    <tr>\n",
              "      <th>SIGHT_DATE</th>\n",
              "      <th></th>\n",
              "    </tr>\n",
              "  </thead>\n",
              "  <tbody>\n",
              "    <tr>\n",
              "      <th>2015-02-11</th>\n",
              "      <td>2</td>\n",
              "    </tr>\n",
              "    <tr>\n",
              "      <th>2015-03-20</th>\n",
              "      <td>1</td>\n",
              "    </tr>\n",
              "    <tr>\n",
              "      <th>2015-03-14</th>\n",
              "      <td>1</td>\n",
              "    </tr>\n",
              "    <tr>\n",
              "      <th>2015-03-13</th>\n",
              "      <td>1</td>\n",
              "    </tr>\n",
              "    <tr>\n",
              "      <th>2015-03-06</th>\n",
              "      <td>2</td>\n",
              "    </tr>\n",
              "    <tr>\n",
              "      <th>...</th>\n",
              "      <td>...</td>\n",
              "    </tr>\n",
              "    <tr>\n",
              "      <th>2017-07-06</th>\n",
              "      <td>1</td>\n",
              "    </tr>\n",
              "    <tr>\n",
              "      <th>2017-08-27</th>\n",
              "      <td>1</td>\n",
              "    </tr>\n",
              "    <tr>\n",
              "      <th>2017-08-14</th>\n",
              "      <td>1</td>\n",
              "    </tr>\n",
              "    <tr>\n",
              "      <th>2017-08-04</th>\n",
              "      <td>1</td>\n",
              "    </tr>\n",
              "    <tr>\n",
              "      <th>2017-09-24</th>\n",
              "      <td>1</td>\n",
              "    </tr>\n",
              "  </tbody>\n",
              "</table>\n",
              "<p>101 rows × 1 columns</p>\n",
              "</div>"
            ],
            "text/plain": [
              "            Views\n",
              "SIGHT_DATE       \n",
              "2015-02-11      2\n",
              "2015-03-20      1\n",
              "2015-03-14      1\n",
              "2015-03-13      1\n",
              "2015-03-06      2\n",
              "...           ...\n",
              "2017-07-06      1\n",
              "2017-08-27      1\n",
              "2017-08-14      1\n",
              "2017-08-04      1\n",
              "2017-09-24      1\n",
              "\n",
              "[101 rows x 1 columns]"
            ]
          },
          "metadata": {
            "tags": []
          },
          "execution_count": 20
        }
      ]
    },
    {
      "cell_type": "code",
      "metadata": {
        "id": "sVjb4tNLJAGQ",
        "outputId": "55258b06-b84d-47ed-e117-8c868460f6c9",
        "colab": {
          "base_uri": "https://localhost:8080/"
        }
      },
      "source": [
        "array_forecast = []\n",
        "array_test = []\n",
        "diferenca = []\n",
        "\n",
        "for i in df_forecast.itertuples():\n",
        "  array_forecast.append(float(df_forecast.Views[i.Index]))\n",
        "\n",
        "for index, row in df_test.iterrows():\n",
        "  teste = str(row[\"Views\"])\n",
        "  array_test.append(float(teste))\n",
        "\n",
        "for i in range(101):\n",
        "  diferenca.append(array_forecast[i] - array_test[i])\n",
        "\n",
        "print(diferenca)"
      ],
      "execution_count": 21,
      "outputs": [
        {
          "output_type": "stream",
          "text": [
            "[-0.15873391367627887, 0.6951304003229364, 0.560593059005488, 0.43673353704949935, -0.6772956315734158, -0.782274652091947, 0.12107819277992626, 0.03210162824138241, -0.049813137139824826, -0.1252265768726155, -0.19465468138911812, -0.2585724885311056, -0.3174173338324665, -0.37159184283664726, -0.42146668592296577, -0.46738311449074355, -0.509655295854221, -0.5485724628239692, -0.5844008926825669, -0.6173857290949989, -0.6477526594195724, -0.6757094588957686, -0.701447412274605, -1.7251426226185211, -1.7469572162258014, -5.767040451923811, -5.785529742321006, -5.80255159400528, -5.818222473121622, -5.8326496022515215, -5.845931694046471, -0.8581596266352098, -0.8694170654259588, -0.8797810355580942, -0.8893224489200808, -0.8981065893395916, -0.9061935592655671, -0.9136386909984764, -0.9204929252824855, -0.9268031598499172, -0.932612570302797, -0.9379609055270081, -0.9428847596603233, -2.9474178224751624, -2.9515911098892316, -2.955433176181235, -1.9589703093636721, -1.9622267110494878, -0.9652246620432575, -0.967984674789902, -0.9705256337240109, -0.9728649244800688, -0.9750185528476588, -1.977001254285553, -1.978826594744003, -0.980507063485072, -2.982054158536101, -2.98347846536099, -2.9847897292875842, -0.9859969221867131, -0.9871083038591213, -0.9881314785503048, -0.9890734469799354, -0.9899406542418685, -0.990739033902474, -0.9914740485990158, -0.9921507274158619, -0.9927737002942579, -1.993347229711103, -1.993875239843476, -1.9943613434184628, -1.9948088664319947, -0.9952208709058276, -0.9956001758383687, -0.9959493764927002, -0.9962708621537717, -0.9965668324762568, -0.9968393125349317, -0.9970901666805507, -0.9973211112960216, -1.9975337265401645, -1.9977294671594024, -0.9979096724413615, -0.9980755753784856, -0.9982283111043596, -0.9983689246604704, -0.9984983781465426, -0.9986175573033732, -0.9987272775732076, -0.9988282896791217, -0.9989212847615857, -0.9990068991073536, -1.9990857185030362, -1.9991582822431435, -0.999225086820022, -0.9992865893209305, -0.9993432105555041, -0.9993953379349971, -0.999443328123012, -0.9994875094758459, -0.9995281842891564]\n"
          ],
          "name": "stdout"
        }
      ]
    },
    {
      "cell_type": "markdown",
      "metadata": {
        "id": "qn3pDKeKGIvq"
      },
      "source": [
        "#### 2. Calcule o erro médio e o desvio-padrão com relação ao seu conjunto de testes.\n",
        "    1. O erro médio foi de: 12.5% e o desvio-padrão foi de: 44.45%"
      ]
    },
    {
      "cell_type": "code",
      "metadata": {
        "id": "MSW29YGzIl7I",
        "outputId": "d45fb4fe-1f75-4ecb-9f5e-6872fe87b6ec",
        "colab": {
          "base_uri": "https://localhost:8080/"
        }
      },
      "source": [
        "print(\"Erro Médio:\")\n",
        "# O Erro Médio é calculado quando calculamos o valor absoluto \n",
        "# da diferença entre o forecast e df_teste, depois pegamos a media desse vetor \n",
        "# resultante.\n",
        "np.mean(np.abs(diferenca))"
      ],
      "execution_count": 22,
      "outputs": [
        {
          "output_type": "stream",
          "text": [
            "Erro Médio:\n"
          ],
          "name": "stdout"
        },
        {
          "output_type": "execute_result",
          "data": {
            "text/plain": [
              "1.3910627987877098"
            ]
          },
          "metadata": {
            "tags": []
          },
          "execution_count": 22
        }
      ]
    },
    {
      "cell_type": "code",
      "metadata": {
        "id": "OPYXR9OostPl",
        "outputId": "c29b82f7-4589-4c60-cc23-cef2d81f3f7d",
        "colab": {
          "base_uri": "https://localhost:8080/"
        }
      },
      "source": [
        "print(\"Desvio Padrão:\")\n",
        "# O metódo que calcula o desvio padrão da amostra é .std()\n",
        "# ddof modifica o divisor da sum dos quadrados das amostras-menos-média. \n",
        "# O divisor é N - ddof , onde o padrão ddof é 0 como você pode ver no seu\n",
        "# resultado.\n",
        "np.std(diferenca, ddof=1)\n"
      ],
      "execution_count": 23,
      "outputs": [
        {
          "output_type": "stream",
          "text": [
            "Desvio Padrão:\n"
          ],
          "name": "stdout"
        },
        {
          "output_type": "execute_result",
          "data": {
            "text/plain": [
              "1.3347654821351955"
            ]
          },
          "metadata": {
            "tags": []
          },
          "execution_count": 23
        }
      ]
    }
  ]
}